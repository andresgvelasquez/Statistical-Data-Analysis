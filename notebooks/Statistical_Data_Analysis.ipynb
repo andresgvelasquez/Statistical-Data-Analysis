{
 "cells": [
  {
   "cell_type": "markdown",
   "metadata": {
    "id": "3rYiDeEH0q0f"
   },
   "source": [
    "# ¿Cuál es la mejor tarifa?\n",
    "\n",
    "Trabajas como analista para el operador de telecomunicaciones Megaline. La empresa ofrece a sus clientes dos tarifas de prepago, Surf y Ultimate. El departamento comercial quiere saber cuál de las tarifas genera más ingresos para poder ajustar el presupuesto de publicidad.\n",
    "\n",
    "Vas a realizar un análisis preliminar de las tarifas basado en una selección de clientes relativamente pequeña. Tendrás los datos de 500 clientes de Megaline: quiénes son los clientes, de dónde son, qué tarifa usan, así como la cantidad de llamadas que hicieron y los mensajes de texto que enviaron en 2018. Tu trabajo es analizar el comportamiento de los clientes y determinar qué tarifa de prepago genera más ingresos."
   ]
  },
  {
   "cell_type": "markdown",
   "metadata": {},
   "source": [
    "## Propósito y acciones del proyecto\n",
    "\n",
    "**Lecutra de datos:**  \n",
    "Utilizare los métodos de pandas. Los archivos son csv asi que utilizare la función read_csv(). Examinare los archivos para ver que se hayan leido correctamente, en caso contrario aplicare los argumentos necesarios para una lectura correcta del archivo.\n",
    "\n",
    "**Preprocesamiento de datos:**  \n",
    "- **Limpieza de datos (eliminar duplicados, eliminar o rellenar valores ausentes):**  \n",
    "Para encontrar los duplicados explicitos, aquellos que con tienen filas completamente duplicadas, utilizare duplicated().sum().\n",
    "Relleare valores ausentes de acuerdo a la causa. Utilizare fillna() para rellenar y isna() para encontrarlos.\n",
    "\n",
    "- **Conversión del tipo de dato:**  \n",
    "Aquellas columnas que contengan valores con un tipo de dato incorrecto seran cambiadas con el método astype(). \n",
    "Los mas comunes son: float a int, object a categorico, object a datatime para realizar calculos con el tiempo.\n",
    "\n",
    "- **Para cada usuario encontrar**:  \n",
    "   - **El número de llamadas realizadas y minutos utilizados al mes:**  \n",
    "   Utilizare métodos de suma y conteo como sum() y count() aplicados  la columna correspondiente. \n",
    "   - **La cantidad de los SMS enviados por mes.**  \n",
    "   Utilizare métodos de conteo como count() aplicados a la columna correspondiente.\n",
    "   - **El volumen de datos por mes.**  \n",
    "   Utilizare métodos de suma como sum() aplicados  la columna correspondiente.\n",
    "   - **Los ingresos mensuales por cada usuario. Para ello, necesitas:**  \n",
    "       - **Restar el límite del paquete gratuito del número total de llamadas, mensajes de texto y datos.**    \n",
    "       Despues de filtrar el dataframe y crear un dataframe con el número de llamadas, mensajes de texto\n",
    "       y datos usados por el usuario. Condicionare, si cada servicio individual excede el paquete gratuito, \n",
    "       se realizara una resta para obtener el excedente correspondiente. Se utilizara el dataframe creado\n",
    "       y aquel que contenga las tarifas.\n",
    "       - **Multiplicar el resultado por el valor de la tarifa de llamadas.**    \n",
    "       De igual forma se utilizara el dataframe creado con los excedentes del paquete gratuito y se multiplicara\n",
    "       por el valor indicado en el dataframe de las tarifas. \n",
    "       - **Añadir la cuota mensual en función del plan de llamadas.**    \n",
    "       Se creara una nueva columna con el total. \n",
    "       \n",
    "**Analizar los datos**  \n",
    "- **Describe el comportamiento de la clientela:**  \n",
    "    - **Encuentra los minutos, SMS y volumen de datos que requieren los usuarios de cada tarifa por mes.**  \n",
    "    Agrupare con groupby() por mes y tarifa. Dependiendo del caso lo combinare con sum() o count(). \n",
    "    - **Calcula la media, la varianza y la desviación estándar.**  \n",
    "    Me apoyare de las funciones mean(), var() de la líbreria numpy, sigma puedo usar math.sqrt(varianza). \n",
    "    - **Traza histogramas. Describe las distribuciones.**  \n",
    "    Graficare con la funcion plot. Agregare los argumentos necesarios para que sea legible.\n",
    "    \n",
    "**Prueba las hipótesis**  \n",
    "\n",
    "- **El ingreso promedio de los usuarios de las tarifas Ultimate y Surf difiere.**  \n",
    "- **El ingreso promedio de los usuarios en el área de estados Nueva York-Nueva Jersey es diferente al de los usuarios de          otras regiones.**  \n",
    "Utilizare una prueba estadistica t student. Para ver si las medias son significativamente diferentes. Esto con la libreria scipy-stats. Generare un hipotesis nula, una alternativa y definire un nivel de significancia.\n"
   ]
  },
  {
   "cell_type": "markdown",
   "metadata": {},
   "source": [
    "## Diccionario de datos\n",
    "1. La tabla `users` (datos sobre los usuarios):\n",
    " \n",
    "- *user_id*: identificador único del usuario.\n",
    "- *first_name*: nombre del usuario.\n",
    "- *last_nam*e: apellido del usuario.\n",
    "- *age*: edad del usuario (en años).\n",
    "- *reg_date*: fecha de suscripción (dd, mm, aa).\n",
    "- *churn_date*: la fecha en la que el usuario dejó de usar el servicio (si el valor es ausente, la tarifa se estaba usando cuando fue extraída esta base de datos).\n",
    "- *city*: ciudad de residencia del usuario.\n",
    "- *plan*: nombre de la tarifa.\n",
    "\n",
    "2. La tabla `calls` (datos sobre las llamadas):\n",
    " \n",
    "- *id*: identificador único de la llamada.\n",
    "- *call_date*: fecha de la llamada.\n",
    "- *duration*: duración de la llamada (en minutos).\n",
    "- *user_id*: el identificador del usuario que realiza la llamada.\n",
    "\n",
    "3. La tabla `messages` (datos sobre los SMS):\n",
    " \n",
    "- *id*: identificador único del SMS.\n",
    "- *message_date*: fecha del SMS.\n",
    "- *user_id*: el identificador del usuario que manda el SMS.\n",
    "\n",
    "4. La tabla `internet` (datos sobre las sesiones web):\n",
    " \n",
    "- *id*: identificador único de la sesión.\n",
    "- *mb_used*: el volumen de datos gastados durante la sesión (en megabytes).\n",
    "- *session_date*: fecha de la sesión web.\n",
    "- *user_id*: identificador del usuario.\n",
    "\n",
    "5. La tabla `plans` (datos sobre las tarifas):\n",
    " \n",
    "- *plan_name*: nombre de la tarifa.\n",
    "- *usd_monthly_fee*: pago mensual en dólares estadounidenses.\n",
    "- *minutes_included*: minutos incluidos al mes.\n",
    "- *messages_included*: SMS incluidos al mes.\n",
    "- *mb_per_month_included*: datos incluidos al mes (en megabytes).\n",
    "- *usd_per_minute*: precio por minuto tras exceder los límites del paquete (por ejemplo, si el paquete incluye 100 minutos, el operador cobrará el minuto 101).\n",
    "- *usd_per_message*: precio por SMS tras exceder los límites del paquete.\n",
    "- *usd_per_gb*: precio por gigabyte de los datos extra tras exceder los límites del paquete (1 GB = 1024 megabytes)."
   ]
  },
  {
   "cell_type": "markdown",
   "metadata": {
    "id": "MQi4IPy70q0y"
   },
   "source": [
    "## Inicialización de librerías"
   ]
  },
  {
   "cell_type": "code",
   "execution_count": 1,
   "metadata": {
    "id": "MtYIuBxu0q0z"
   },
   "outputs": [],
   "source": [
    "from scipy import stats as st \n",
    "import math as mt \n",
    "import matplotlib.pyplot as plt \n",
    "import pandas as pd\n",
    "import numpy as np "
   ]
  },
  {
   "cell_type": "markdown",
   "metadata": {
    "id": "4ysWWC5i0q00"
   },
   "source": [
    "## Cargar datos"
   ]
  },
  {
   "cell_type": "markdown",
   "metadata": {},
   "source": [
    "Ubicación de los archivos: \n",
    "- **calls:** ../datasets/megaline_calls.csv \n",
    "- **internet:** ../datasets/megaline_internet.csv\n",
    "- **messages:** ../datasets/megaline_messages.csv \n",
    "- **plans:** ../datasets/megaline_plans.csv \n",
    "- **users:** ../datasets/megaline_users.csv "
   ]
  },
  {
   "cell_type": "code",
   "execution_count": 2,
   "metadata": {
    "id": "CCqPW7rS0q01"
   },
   "outputs": [],
   "source": [
    "df_users = pd.read_csv('../datasets/megaline_users.csv') # Lectura del dataframe users (usuarios)\n",
    "df_calls = pd.read_csv('../datasets/megaline_calls.csv') # Lectura del dataframe calls (llamadas)\n",
    "df_messages = pd.read_csv('../datasets/megaline_messages.csv') # Lectura del dataframe messages (mensajes)\n",
    "df_internet = pd.read_csv('../datasets/megaline_internet.csv') # Lectura del dataframe internet (internet)\n",
    "df_plans = pd.read_csv('../datasets/megaline_plans.csv') # Lectura del dataframe plans (tarifas)"
   ]
  },
  {
   "cell_type": "markdown",
   "metadata": {
    "id": "69qqoJ3r0q01"
   },
   "source": [
    "# Preparar los datos"
   ]
  },
  {
   "cell_type": "markdown",
   "metadata": {
    "id": "ohBhimvH0q01"
   },
   "source": [
    "## Tarifas"
   ]
  },
  {
   "cell_type": "code",
   "execution_count": 3,
   "metadata": {
    "id": "GptqP3Q40q02"
   },
   "outputs": [
    {
     "name": "stdout",
     "output_type": "stream",
     "text": [
      "<class 'pandas.core.frame.DataFrame'>\n",
      "RangeIndex: 2 entries, 0 to 1\n",
      "Data columns (total 8 columns):\n",
      " #   Column                 Non-Null Count  Dtype  \n",
      "---  ------                 --------------  -----  \n",
      " 0   messages_included      2 non-null      int64  \n",
      " 1   mb_per_month_included  2 non-null      int64  \n",
      " 2   minutes_included       2 non-null      int64  \n",
      " 3   usd_monthly_pay        2 non-null      int64  \n",
      " 4   usd_per_gb             2 non-null      int64  \n",
      " 5   usd_per_message        2 non-null      float64\n",
      " 6   usd_per_minute         2 non-null      float64\n",
      " 7   plan_name              2 non-null      object \n",
      "dtypes: float64(2), int64(5), object(1)\n",
      "memory usage: 256.0+ bytes\n"
     ]
    }
   ],
   "source": [
    "# Imprime la información general/resumida sobre el DataFrame de las tarifas\n",
    "df_plans.info()"
   ]
  },
  {
   "cell_type": "code",
   "execution_count": 4,
   "metadata": {
    "id": "64xzjwL70q02"
   },
   "outputs": [
    {
     "data": {
      "text/html": [
       "<div>\n",
       "<style scoped>\n",
       "    .dataframe tbody tr th:only-of-type {\n",
       "        vertical-align: middle;\n",
       "    }\n",
       "\n",
       "    .dataframe tbody tr th {\n",
       "        vertical-align: top;\n",
       "    }\n",
       "\n",
       "    .dataframe thead th {\n",
       "        text-align: right;\n",
       "    }\n",
       "</style>\n",
       "<table border=\"1\" class=\"dataframe\">\n",
       "  <thead>\n",
       "    <tr style=\"text-align: right;\">\n",
       "      <th></th>\n",
       "      <th>messages_included</th>\n",
       "      <th>mb_per_month_included</th>\n",
       "      <th>minutes_included</th>\n",
       "      <th>usd_monthly_pay</th>\n",
       "      <th>usd_per_gb</th>\n",
       "      <th>usd_per_message</th>\n",
       "      <th>usd_per_minute</th>\n",
       "      <th>plan_name</th>\n",
       "    </tr>\n",
       "  </thead>\n",
       "  <tbody>\n",
       "    <tr>\n",
       "      <th>0</th>\n",
       "      <td>50</td>\n",
       "      <td>15360</td>\n",
       "      <td>500</td>\n",
       "      <td>20</td>\n",
       "      <td>10</td>\n",
       "      <td>0.03</td>\n",
       "      <td>0.03</td>\n",
       "      <td>surf</td>\n",
       "    </tr>\n",
       "    <tr>\n",
       "      <th>1</th>\n",
       "      <td>1000</td>\n",
       "      <td>30720</td>\n",
       "      <td>3000</td>\n",
       "      <td>70</td>\n",
       "      <td>7</td>\n",
       "      <td>0.01</td>\n",
       "      <td>0.01</td>\n",
       "      <td>ultimate</td>\n",
       "    </tr>\n",
       "  </tbody>\n",
       "</table>\n",
       "</div>"
      ],
      "text/plain": [
       "   messages_included  mb_per_month_included  minutes_included  \\\n",
       "0                 50                  15360               500   \n",
       "1               1000                  30720              3000   \n",
       "\n",
       "   usd_monthly_pay  usd_per_gb  usd_per_message  usd_per_minute plan_name  \n",
       "0               20          10             0.03            0.03      surf  \n",
       "1               70           7             0.01            0.01  ultimate  "
      ]
     },
     "execution_count": 4,
     "metadata": {},
     "output_type": "execute_result"
    }
   ],
   "source": [
    "# Imprime una muestra de los datos para las tarifas\n",
    "df_plans.head()"
   ]
  },
  {
   "cell_type": "markdown",
   "metadata": {
    "id": "mEc_3_hs0q02"
   },
   "source": [
    "**Notas**\n",
    "\n",
    "- El dataframe no contiene valores ausentes. \n",
    "- Los nombres de las columnas contienen un correcto uso de minúsculas, snake case y son nombres descriptivos.\n",
    "- Con excepción de la columna plan_name, los tipos de datos son correctos. Creo que podemos cambiar el tipo de dato de la columna plan_name por tipo categórico en vez de un string con apoyo de la método astype(). \n",
    "- Podrían cambiarse las columnas usd_per_message a cents_per_message para tener valores int en vez de flotantes. Pero no se si eso complicara los calculos en el futuro. \n",
    "- Hay 8 columnas y 2 filas. "
   ]
  },
  {
   "cell_type": "markdown",
   "metadata": {
    "id": "R3C05i1l0q03"
   },
   "source": [
    "### Corregir datos"
   ]
  },
  {
   "cell_type": "code",
   "execution_count": 5,
   "metadata": {
    "id": "Y7SVmjGn0q03",
    "scrolled": true
   },
   "outputs": [
    {
     "name": "stdout",
     "output_type": "stream",
     "text": [
      "<class 'pandas.core.frame.DataFrame'>\n",
      "RangeIndex: 2 entries, 0 to 1\n",
      "Data columns (total 8 columns):\n",
      " #   Column                 Non-Null Count  Dtype   \n",
      "---  ------                 --------------  -----   \n",
      " 0   messages_included      2 non-null      int64   \n",
      " 1   mb_per_month_included  2 non-null      int64   \n",
      " 2   minutes_included       2 non-null      int64   \n",
      " 3   usd_monthly_pay        2 non-null      int64   \n",
      " 4   usd_per_gb             2 non-null      int64   \n",
      " 5   usd_per_message        2 non-null      float64 \n",
      " 6   usd_per_minute         2 non-null      float64 \n",
      " 7   plan_name              2 non-null      category\n",
      "dtypes: category(1), float64(2), int64(5)\n",
      "memory usage: 366.0 bytes\n"
     ]
    }
   ],
   "source": [
    "# Cambiar el tipo de datos de la columna plan_name de string a categórico\n",
    "df_plans['plan_name'] = df_plans['plan_name'].astype('category')\n",
    "\n",
    "# Verificar que el tipo de dato haya sido cambiado \n",
    "df_plans.info()"
   ]
  },
  {
   "cell_type": "code",
   "execution_count": 6,
   "metadata": {},
   "outputs": [
    {
     "data": {
      "text/html": [
       "<div>\n",
       "<style scoped>\n",
       "    .dataframe tbody tr th:only-of-type {\n",
       "        vertical-align: middle;\n",
       "    }\n",
       "\n",
       "    .dataframe tbody tr th {\n",
       "        vertical-align: top;\n",
       "    }\n",
       "\n",
       "    .dataframe thead th {\n",
       "        text-align: right;\n",
       "    }\n",
       "</style>\n",
       "<table border=\"1\" class=\"dataframe\">\n",
       "  <thead>\n",
       "    <tr style=\"text-align: right;\">\n",
       "      <th></th>\n",
       "      <th>messages_included</th>\n",
       "      <th>mb_per_month_included</th>\n",
       "      <th>minutes_included</th>\n",
       "      <th>usd_monthly_pay</th>\n",
       "      <th>usd_per_gb</th>\n",
       "      <th>usd_per_message</th>\n",
       "      <th>usd_per_minute</th>\n",
       "      <th>plan_name</th>\n",
       "      <th>gb_per_month_included</th>\n",
       "    </tr>\n",
       "  </thead>\n",
       "  <tbody>\n",
       "    <tr>\n",
       "      <th>0</th>\n",
       "      <td>50</td>\n",
       "      <td>15360</td>\n",
       "      <td>500</td>\n",
       "      <td>20</td>\n",
       "      <td>10</td>\n",
       "      <td>0.03</td>\n",
       "      <td>0.03</td>\n",
       "      <td>surf</td>\n",
       "      <td>15</td>\n",
       "    </tr>\n",
       "    <tr>\n",
       "      <th>1</th>\n",
       "      <td>1000</td>\n",
       "      <td>30720</td>\n",
       "      <td>3000</td>\n",
       "      <td>70</td>\n",
       "      <td>7</td>\n",
       "      <td>0.01</td>\n",
       "      <td>0.01</td>\n",
       "      <td>ultimate</td>\n",
       "      <td>30</td>\n",
       "    </tr>\n",
       "  </tbody>\n",
       "</table>\n",
       "</div>"
      ],
      "text/plain": [
       "   messages_included  mb_per_month_included  minutes_included  \\\n",
       "0                 50                  15360               500   \n",
       "1               1000                  30720              3000   \n",
       "\n",
       "   usd_monthly_pay  usd_per_gb  usd_per_message  usd_per_minute plan_name  \\\n",
       "0               20          10             0.03            0.03      surf   \n",
       "1               70           7             0.01            0.01  ultimate   \n",
       "\n",
       "   gb_per_month_included  \n",
       "0                     15  \n",
       "1                     30  "
      ]
     },
     "execution_count": 6,
     "metadata": {},
     "output_type": "execute_result"
    }
   ],
   "source": [
    "# Añadir una columna con los gb incluidos en vez de mb para futuros calculos.\n",
    "df_plans['gb_per_month_included'] = df_plans['mb_per_month_included'] / 1024\n",
    "df_plans['gb_per_month_included'] = df_plans['gb_per_month_included'].astype('int')\n",
    "df_plans"
   ]
  },
  {
   "cell_type": "markdown",
   "metadata": {
    "id": "1n2X6WXf0q04"
   },
   "source": [
    "## Usuarios/as"
   ]
  },
  {
   "cell_type": "code",
   "execution_count": 7,
   "metadata": {
    "id": "2NgjWFqx0q05"
   },
   "outputs": [
    {
     "name": "stdout",
     "output_type": "stream",
     "text": [
      "<class 'pandas.core.frame.DataFrame'>\n",
      "RangeIndex: 500 entries, 0 to 499\n",
      "Data columns (total 8 columns):\n",
      " #   Column      Non-Null Count  Dtype \n",
      "---  ------      --------------  ----- \n",
      " 0   user_id     500 non-null    int64 \n",
      " 1   first_name  500 non-null    object\n",
      " 2   last_name   500 non-null    object\n",
      " 3   age         500 non-null    int64 \n",
      " 4   city        500 non-null    object\n",
      " 5   reg_date    500 non-null    object\n",
      " 6   plan        500 non-null    object\n",
      " 7   churn_date  34 non-null     object\n",
      "dtypes: int64(2), object(6)\n",
      "memory usage: 31.4+ KB\n"
     ]
    }
   ],
   "source": [
    "# Imprime la información general/resumida sobre el DataFrame de usuarios\n",
    "df_users.info()"
   ]
  },
  {
   "cell_type": "code",
   "execution_count": 8,
   "metadata": {
    "id": "1IN1L9uh0q05"
   },
   "outputs": [
    {
     "data": {
      "text/html": [
       "<div>\n",
       "<style scoped>\n",
       "    .dataframe tbody tr th:only-of-type {\n",
       "        vertical-align: middle;\n",
       "    }\n",
       "\n",
       "    .dataframe tbody tr th {\n",
       "        vertical-align: top;\n",
       "    }\n",
       "\n",
       "    .dataframe thead th {\n",
       "        text-align: right;\n",
       "    }\n",
       "</style>\n",
       "<table border=\"1\" class=\"dataframe\">\n",
       "  <thead>\n",
       "    <tr style=\"text-align: right;\">\n",
       "      <th></th>\n",
       "      <th>user_id</th>\n",
       "      <th>first_name</th>\n",
       "      <th>last_name</th>\n",
       "      <th>age</th>\n",
       "      <th>city</th>\n",
       "      <th>reg_date</th>\n",
       "      <th>plan</th>\n",
       "      <th>churn_date</th>\n",
       "    </tr>\n",
       "  </thead>\n",
       "  <tbody>\n",
       "    <tr>\n",
       "      <th>0</th>\n",
       "      <td>1000</td>\n",
       "      <td>Anamaria</td>\n",
       "      <td>Bauer</td>\n",
       "      <td>45</td>\n",
       "      <td>Atlanta-Sandy Springs-Roswell, GA MSA</td>\n",
       "      <td>2018-12-24</td>\n",
       "      <td>ultimate</td>\n",
       "      <td>NaN</td>\n",
       "    </tr>\n",
       "    <tr>\n",
       "      <th>1</th>\n",
       "      <td>1001</td>\n",
       "      <td>Mickey</td>\n",
       "      <td>Wilkerson</td>\n",
       "      <td>28</td>\n",
       "      <td>Seattle-Tacoma-Bellevue, WA MSA</td>\n",
       "      <td>2018-08-13</td>\n",
       "      <td>surf</td>\n",
       "      <td>NaN</td>\n",
       "    </tr>\n",
       "    <tr>\n",
       "      <th>2</th>\n",
       "      <td>1002</td>\n",
       "      <td>Carlee</td>\n",
       "      <td>Hoffman</td>\n",
       "      <td>36</td>\n",
       "      <td>Las Vegas-Henderson-Paradise, NV MSA</td>\n",
       "      <td>2018-10-21</td>\n",
       "      <td>surf</td>\n",
       "      <td>NaN</td>\n",
       "    </tr>\n",
       "    <tr>\n",
       "      <th>3</th>\n",
       "      <td>1003</td>\n",
       "      <td>Reynaldo</td>\n",
       "      <td>Jenkins</td>\n",
       "      <td>52</td>\n",
       "      <td>Tulsa, OK MSA</td>\n",
       "      <td>2018-01-28</td>\n",
       "      <td>surf</td>\n",
       "      <td>NaN</td>\n",
       "    </tr>\n",
       "    <tr>\n",
       "      <th>4</th>\n",
       "      <td>1004</td>\n",
       "      <td>Leonila</td>\n",
       "      <td>Thompson</td>\n",
       "      <td>40</td>\n",
       "      <td>Seattle-Tacoma-Bellevue, WA MSA</td>\n",
       "      <td>2018-05-23</td>\n",
       "      <td>surf</td>\n",
       "      <td>NaN</td>\n",
       "    </tr>\n",
       "  </tbody>\n",
       "</table>\n",
       "</div>"
      ],
      "text/plain": [
       "   user_id first_name  last_name  age                                   city  \\\n",
       "0     1000   Anamaria      Bauer   45  Atlanta-Sandy Springs-Roswell, GA MSA   \n",
       "1     1001     Mickey  Wilkerson   28        Seattle-Tacoma-Bellevue, WA MSA   \n",
       "2     1002     Carlee    Hoffman   36   Las Vegas-Henderson-Paradise, NV MSA   \n",
       "3     1003   Reynaldo    Jenkins   52                          Tulsa, OK MSA   \n",
       "4     1004    Leonila   Thompson   40        Seattle-Tacoma-Bellevue, WA MSA   \n",
       "\n",
       "     reg_date      plan churn_date  \n",
       "0  2018-12-24  ultimate        NaN  \n",
       "1  2018-08-13      surf        NaN  \n",
       "2  2018-10-21      surf        NaN  \n",
       "3  2018-01-28      surf        NaN  \n",
       "4  2018-05-23      surf        NaN  "
      ]
     },
     "execution_count": 8,
     "metadata": {},
     "output_type": "execute_result"
    }
   ],
   "source": [
    "# Imprime una muestra de datos para usuarios\n",
    "df_users.head()"
   ]
  },
  {
   "cell_type": "markdown",
   "metadata": {
    "id": "dCZoUq4f0q06"
   },
   "source": [
    "**Notas**\n",
    "\n",
    "- Las columnas tienen un nombre apropiado: minúsculas, snake_case  y el nombre es descriptivo. \n",
    "- La columna reg_date contiene valores de tipo str, al ser fechas pueden cambiarse por datatime para manipular los datos mas fácil. \n",
    "- `Churn_date` contiene 34 valores de 500, es importante verificar la razón. \n",
    "- `plan` es de tipo str lo cambiare por category. Me apoyare del método astype(). \n",
    "- `churn_date` es de tipo str cuando debería ser datetime. Me apoyare del método to_datetime(). Tambien es necesario eliminar los valores ausentes. Me apoyare del método fillna().\n",
    "- Hay 8 columnas y 500 filas. "
   ]
  },
  {
   "cell_type": "markdown",
   "metadata": {
    "id": "BX5FQh_I0q06"
   },
   "source": [
    "### Corregir los datos"
   ]
  },
  {
   "cell_type": "code",
   "execution_count": 9,
   "metadata": {},
   "outputs": [
    {
     "data": {
      "text/plain": [
       "0"
      ]
     },
     "execution_count": 9,
     "metadata": {},
     "output_type": "execute_result"
    }
   ],
   "source": [
    "# Encontrar filas totalmente duplicadas\n",
    "df_users.duplicated().sum()"
   ]
  },
  {
   "cell_type": "code",
   "execution_count": 10,
   "metadata": {
    "id": "yUqX-K0C0q07",
    "scrolled": true
   },
   "outputs": [
    {
     "name": "stdout",
     "output_type": "stream",
     "text": [
      "<class 'pandas.core.frame.DataFrame'>\n",
      "RangeIndex: 500 entries, 0 to 499\n",
      "Data columns (total 8 columns):\n",
      " #   Column      Non-Null Count  Dtype         \n",
      "---  ------      --------------  -----         \n",
      " 0   user_id     500 non-null    int64         \n",
      " 1   first_name  500 non-null    object        \n",
      " 2   last_name   500 non-null    object        \n",
      " 3   age         500 non-null    int64         \n",
      " 4   city        500 non-null    object        \n",
      " 5   reg_date    500 non-null    datetime64[ns]\n",
      " 6   plan        500 non-null    category      \n",
      " 7   churn_date  34 non-null     datetime64[ns]\n",
      "dtypes: category(1), datetime64[ns](2), int64(2), object(3)\n",
      "memory usage: 28.1+ KB\n"
     ]
    }
   ],
   "source": [
    "# Cambiar el tipo de dato de la columna reg_date de str a datatime\n",
    "df_users['reg_date'] = pd.to_datetime(df_users['reg_date'])\n",
    "# Cambiar el tipo de dato de la columna churn_date de str a datatime\n",
    "df_users['churn_date'] = pd.to_datetime(df_users['churn_date'])\n",
    "# Cambiar nombre de la columna plan a tipo category \n",
    "df_users['plan'] = df_users['plan'].astype('category')\n",
    "# Verificar el cambio\n",
    "df_users.info()"
   ]
  },
  {
   "cell_type": "code",
   "execution_count": 11,
   "metadata": {},
   "outputs": [
    {
     "data": {
      "text/html": [
       "<div>\n",
       "<style scoped>\n",
       "    .dataframe tbody tr th:only-of-type {\n",
       "        vertical-align: middle;\n",
       "    }\n",
       "\n",
       "    .dataframe tbody tr th {\n",
       "        vertical-align: top;\n",
       "    }\n",
       "\n",
       "    .dataframe thead th {\n",
       "        text-align: right;\n",
       "    }\n",
       "</style>\n",
       "<table border=\"1\" class=\"dataframe\">\n",
       "  <thead>\n",
       "    <tr style=\"text-align: right;\">\n",
       "      <th></th>\n",
       "      <th>user_id</th>\n",
       "      <th>first_name</th>\n",
       "      <th>last_name</th>\n",
       "      <th>age</th>\n",
       "      <th>city</th>\n",
       "      <th>reg_date</th>\n",
       "      <th>plan</th>\n",
       "      <th>churn_date</th>\n",
       "    </tr>\n",
       "  </thead>\n",
       "  <tbody>\n",
       "    <tr>\n",
       "      <th>0</th>\n",
       "      <td>1000</td>\n",
       "      <td>Anamaria</td>\n",
       "      <td>Bauer</td>\n",
       "      <td>45</td>\n",
       "      <td>Atlanta-Sandy Springs-Roswell, GA MSA</td>\n",
       "      <td>2018-12-24</td>\n",
       "      <td>ultimate</td>\n",
       "      <td>NaT</td>\n",
       "    </tr>\n",
       "    <tr>\n",
       "      <th>1</th>\n",
       "      <td>1001</td>\n",
       "      <td>Mickey</td>\n",
       "      <td>Wilkerson</td>\n",
       "      <td>28</td>\n",
       "      <td>Seattle-Tacoma-Bellevue, WA MSA</td>\n",
       "      <td>2018-08-13</td>\n",
       "      <td>surf</td>\n",
       "      <td>NaT</td>\n",
       "    </tr>\n",
       "    <tr>\n",
       "      <th>2</th>\n",
       "      <td>1002</td>\n",
       "      <td>Carlee</td>\n",
       "      <td>Hoffman</td>\n",
       "      <td>36</td>\n",
       "      <td>Las Vegas-Henderson-Paradise, NV MSA</td>\n",
       "      <td>2018-10-21</td>\n",
       "      <td>surf</td>\n",
       "      <td>NaT</td>\n",
       "    </tr>\n",
       "    <tr>\n",
       "      <th>3</th>\n",
       "      <td>1003</td>\n",
       "      <td>Reynaldo</td>\n",
       "      <td>Jenkins</td>\n",
       "      <td>52</td>\n",
       "      <td>Tulsa, OK MSA</td>\n",
       "      <td>2018-01-28</td>\n",
       "      <td>surf</td>\n",
       "      <td>NaT</td>\n",
       "    </tr>\n",
       "    <tr>\n",
       "      <th>4</th>\n",
       "      <td>1004</td>\n",
       "      <td>Leonila</td>\n",
       "      <td>Thompson</td>\n",
       "      <td>40</td>\n",
       "      <td>Seattle-Tacoma-Bellevue, WA MSA</td>\n",
       "      <td>2018-05-23</td>\n",
       "      <td>surf</td>\n",
       "      <td>NaT</td>\n",
       "    </tr>\n",
       "  </tbody>\n",
       "</table>\n",
       "</div>"
      ],
      "text/plain": [
       "   user_id first_name  last_name  age                                   city  \\\n",
       "0     1000   Anamaria      Bauer   45  Atlanta-Sandy Springs-Roswell, GA MSA   \n",
       "1     1001     Mickey  Wilkerson   28        Seattle-Tacoma-Bellevue, WA MSA   \n",
       "2     1002     Carlee    Hoffman   36   Las Vegas-Henderson-Paradise, NV MSA   \n",
       "3     1003   Reynaldo    Jenkins   52                          Tulsa, OK MSA   \n",
       "4     1004    Leonila   Thompson   40        Seattle-Tacoma-Bellevue, WA MSA   \n",
       "\n",
       "    reg_date      plan churn_date  \n",
       "0 2018-12-24  ultimate        NaT  \n",
       "1 2018-08-13      surf        NaT  \n",
       "2 2018-10-21      surf        NaT  \n",
       "3 2018-01-28      surf        NaT  \n",
       "4 2018-05-23      surf        NaT  "
      ]
     },
     "execution_count": 11,
     "metadata": {},
     "output_type": "execute_result"
    }
   ],
   "source": [
    "# Verificar los cambios\n",
    "df_users.head()"
   ]
  },
  {
   "cell_type": "markdown",
   "metadata": {
    "id": "ycwuARJp0q07"
   },
   "source": [
    "### Enriquecer los datos"
   ]
  },
  {
   "cell_type": "code",
   "execution_count": 12,
   "metadata": {
    "id": "iq0AaBS90q08"
   },
   "outputs": [
    {
     "data": {
      "text/html": [
       "<div>\n",
       "<style scoped>\n",
       "    .dataframe tbody tr th:only-of-type {\n",
       "        vertical-align: middle;\n",
       "    }\n",
       "\n",
       "    .dataframe tbody tr th {\n",
       "        vertical-align: top;\n",
       "    }\n",
       "\n",
       "    .dataframe thead th {\n",
       "        text-align: right;\n",
       "    }\n",
       "</style>\n",
       "<table border=\"1\" class=\"dataframe\">\n",
       "  <thead>\n",
       "    <tr style=\"text-align: right;\">\n",
       "      <th></th>\n",
       "      <th>user_id</th>\n",
       "      <th>first_name</th>\n",
       "      <th>last_name</th>\n",
       "      <th>age</th>\n",
       "      <th>city</th>\n",
       "      <th>reg_date</th>\n",
       "      <th>plan</th>\n",
       "      <th>churn_date</th>\n",
       "      <th>is_plan_active</th>\n",
       "      <th>days_with_play_active</th>\n",
       "      <th>month</th>\n",
       "    </tr>\n",
       "  </thead>\n",
       "  <tbody>\n",
       "    <tr>\n",
       "      <th>46</th>\n",
       "      <td>1046</td>\n",
       "      <td>Beata</td>\n",
       "      <td>Hooper</td>\n",
       "      <td>67</td>\n",
       "      <td>Boston-Cambridge-Newton, MA-NH MSA</td>\n",
       "      <td>2018-02-19</td>\n",
       "      <td>surf</td>\n",
       "      <td>NaT</td>\n",
       "      <td>False</td>\n",
       "      <td>NaT</td>\n",
       "      <td>2</td>\n",
       "    </tr>\n",
       "    <tr>\n",
       "      <th>68</th>\n",
       "      <td>1068</td>\n",
       "      <td>Marcel</td>\n",
       "      <td>Jimenez</td>\n",
       "      <td>47</td>\n",
       "      <td>New York-Newark-Jersey City, NY-NJ-PA MSA</td>\n",
       "      <td>2018-01-29</td>\n",
       "      <td>surf</td>\n",
       "      <td>NaT</td>\n",
       "      <td>False</td>\n",
       "      <td>NaT</td>\n",
       "      <td>1</td>\n",
       "    </tr>\n",
       "    <tr>\n",
       "      <th>382</th>\n",
       "      <td>1382</td>\n",
       "      <td>Luci</td>\n",
       "      <td>Kidd</td>\n",
       "      <td>49</td>\n",
       "      <td>San Diego-Chula Vista-Carlsbad, CA MSA</td>\n",
       "      <td>2018-06-22</td>\n",
       "      <td>ultimate</td>\n",
       "      <td>NaT</td>\n",
       "      <td>False</td>\n",
       "      <td>NaT</td>\n",
       "      <td>6</td>\n",
       "    </tr>\n",
       "    <tr>\n",
       "      <th>153</th>\n",
       "      <td>1153</td>\n",
       "      <td>Kathaleen</td>\n",
       "      <td>Crawford</td>\n",
       "      <td>30</td>\n",
       "      <td>Bridgeport-Stamford-Norwalk, CT MSA</td>\n",
       "      <td>2018-06-19</td>\n",
       "      <td>surf</td>\n",
       "      <td>NaT</td>\n",
       "      <td>False</td>\n",
       "      <td>NaT</td>\n",
       "      <td>6</td>\n",
       "    </tr>\n",
       "    <tr>\n",
       "      <th>192</th>\n",
       "      <td>1192</td>\n",
       "      <td>Korey</td>\n",
       "      <td>Goodwin</td>\n",
       "      <td>36</td>\n",
       "      <td>Buffalo-Cheektowaga, NY MSA</td>\n",
       "      <td>2018-10-02</td>\n",
       "      <td>surf</td>\n",
       "      <td>NaT</td>\n",
       "      <td>False</td>\n",
       "      <td>NaT</td>\n",
       "      <td>10</td>\n",
       "    </tr>\n",
       "    <tr>\n",
       "      <th>69</th>\n",
       "      <td>1069</td>\n",
       "      <td>Dino</td>\n",
       "      <td>Fry</td>\n",
       "      <td>31</td>\n",
       "      <td>Houston-The Woodlands-Sugar Land, TX MSA</td>\n",
       "      <td>2018-09-17</td>\n",
       "      <td>ultimate</td>\n",
       "      <td>NaT</td>\n",
       "      <td>False</td>\n",
       "      <td>NaT</td>\n",
       "      <td>9</td>\n",
       "    </tr>\n",
       "    <tr>\n",
       "      <th>401</th>\n",
       "      <td>1401</td>\n",
       "      <td>Charmain</td>\n",
       "      <td>Bryant</td>\n",
       "      <td>67</td>\n",
       "      <td>Richmond, VA MSA</td>\n",
       "      <td>2018-08-24</td>\n",
       "      <td>ultimate</td>\n",
       "      <td>NaT</td>\n",
       "      <td>False</td>\n",
       "      <td>NaT</td>\n",
       "      <td>8</td>\n",
       "    </tr>\n",
       "    <tr>\n",
       "      <th>452</th>\n",
       "      <td>1452</td>\n",
       "      <td>Miguel</td>\n",
       "      <td>Sparks</td>\n",
       "      <td>32</td>\n",
       "      <td>Tucson, AZ MSA</td>\n",
       "      <td>2018-12-29</td>\n",
       "      <td>surf</td>\n",
       "      <td>NaT</td>\n",
       "      <td>False</td>\n",
       "      <td>NaT</td>\n",
       "      <td>12</td>\n",
       "    </tr>\n",
       "    <tr>\n",
       "      <th>25</th>\n",
       "      <td>1025</td>\n",
       "      <td>Jess</td>\n",
       "      <td>Wilkinson</td>\n",
       "      <td>64</td>\n",
       "      <td>Atlanta-Sandy Springs-Roswell, GA MSA</td>\n",
       "      <td>2018-10-28</td>\n",
       "      <td>ultimate</td>\n",
       "      <td>NaT</td>\n",
       "      <td>False</td>\n",
       "      <td>NaT</td>\n",
       "      <td>10</td>\n",
       "    </tr>\n",
       "    <tr>\n",
       "      <th>41</th>\n",
       "      <td>1041</td>\n",
       "      <td>Drucilla</td>\n",
       "      <td>Lynn</td>\n",
       "      <td>58</td>\n",
       "      <td>Las Vegas-Henderson-Paradise, NV MSA</td>\n",
       "      <td>2018-03-17</td>\n",
       "      <td>ultimate</td>\n",
       "      <td>NaT</td>\n",
       "      <td>False</td>\n",
       "      <td>NaT</td>\n",
       "      <td>3</td>\n",
       "    </tr>\n",
       "  </tbody>\n",
       "</table>\n",
       "</div>"
      ],
      "text/plain": [
       "     user_id first_name  last_name  age  \\\n",
       "46      1046      Beata     Hooper   67   \n",
       "68      1068     Marcel    Jimenez   47   \n",
       "382     1382       Luci       Kidd   49   \n",
       "153     1153  Kathaleen   Crawford   30   \n",
       "192     1192      Korey    Goodwin   36   \n",
       "69      1069       Dino        Fry   31   \n",
       "401     1401   Charmain     Bryant   67   \n",
       "452     1452     Miguel     Sparks   32   \n",
       "25      1025       Jess  Wilkinson   64   \n",
       "41      1041   Drucilla       Lynn   58   \n",
       "\n",
       "                                          city   reg_date      plan  \\\n",
       "46          Boston-Cambridge-Newton, MA-NH MSA 2018-02-19      surf   \n",
       "68   New York-Newark-Jersey City, NY-NJ-PA MSA 2018-01-29      surf   \n",
       "382     San Diego-Chula Vista-Carlsbad, CA MSA 2018-06-22  ultimate   \n",
       "153        Bridgeport-Stamford-Norwalk, CT MSA 2018-06-19      surf   \n",
       "192                Buffalo-Cheektowaga, NY MSA 2018-10-02      surf   \n",
       "69    Houston-The Woodlands-Sugar Land, TX MSA 2018-09-17  ultimate   \n",
       "401                           Richmond, VA MSA 2018-08-24  ultimate   \n",
       "452                             Tucson, AZ MSA 2018-12-29      surf   \n",
       "25       Atlanta-Sandy Springs-Roswell, GA MSA 2018-10-28  ultimate   \n",
       "41        Las Vegas-Henderson-Paradise, NV MSA 2018-03-17  ultimate   \n",
       "\n",
       "    churn_date  is_plan_active days_with_play_active  month  \n",
       "46         NaT           False                   NaT      2  \n",
       "68         NaT           False                   NaT      1  \n",
       "382        NaT           False                   NaT      6  \n",
       "153        NaT           False                   NaT      6  \n",
       "192        NaT           False                   NaT     10  \n",
       "69         NaT           False                   NaT      9  \n",
       "401        NaT           False                   NaT      8  \n",
       "452        NaT           False                   NaT     12  \n",
       "25         NaT           False                   NaT     10  \n",
       "41         NaT           False                   NaT      3  "
      ]
     },
     "execution_count": 12,
     "metadata": {},
     "output_type": "execute_result"
    }
   ],
   "source": [
    "# Añadir una columna que indique si la persona no ha cancelado el plan \n",
    "df_users['is_plan_active'] = ~df_users['churn_date'].isna()\n",
    "\n",
    "# Añadir una columna que contenga el número de días con el plan activo\n",
    "df_users['days_with_play_active'] = df_users['churn_date'] - df_users['reg_date']\n",
    "\n",
    "# Añadir una columna que indique el mes\n",
    "df_users['month']=df_users['reg_date'].dt.month\n",
    "\n",
    "# Verificar los cambios\n",
    "df_users.sample(10)"
   ]
  },
  {
   "cell_type": "markdown",
   "metadata": {
    "id": "o7MeKCid0q08"
   },
   "source": [
    "## Llamadas"
   ]
  },
  {
   "cell_type": "code",
   "execution_count": 13,
   "metadata": {
    "id": "6dDlnoDm0q08"
   },
   "outputs": [
    {
     "name": "stdout",
     "output_type": "stream",
     "text": [
      "<class 'pandas.core.frame.DataFrame'>\n",
      "RangeIndex: 137735 entries, 0 to 137734\n",
      "Data columns (total 4 columns):\n",
      " #   Column     Non-Null Count   Dtype  \n",
      "---  ------     --------------   -----  \n",
      " 0   id         137735 non-null  object \n",
      " 1   user_id    137735 non-null  int64  \n",
      " 2   call_date  137735 non-null  object \n",
      " 3   duration   137735 non-null  float64\n",
      "dtypes: float64(1), int64(1), object(2)\n",
      "memory usage: 4.2+ MB\n"
     ]
    }
   ],
   "source": [
    "# Imprime la información general/resumida sobre el DataFrame de las llamadas\n",
    "df_calls.info()"
   ]
  },
  {
   "cell_type": "code",
   "execution_count": 14,
   "metadata": {
    "id": "kuh1vlNB0q09"
   },
   "outputs": [
    {
     "data": {
      "text/html": [
       "<div>\n",
       "<style scoped>\n",
       "    .dataframe tbody tr th:only-of-type {\n",
       "        vertical-align: middle;\n",
       "    }\n",
       "\n",
       "    .dataframe tbody tr th {\n",
       "        vertical-align: top;\n",
       "    }\n",
       "\n",
       "    .dataframe thead th {\n",
       "        text-align: right;\n",
       "    }\n",
       "</style>\n",
       "<table border=\"1\" class=\"dataframe\">\n",
       "  <thead>\n",
       "    <tr style=\"text-align: right;\">\n",
       "      <th></th>\n",
       "      <th>id</th>\n",
       "      <th>user_id</th>\n",
       "      <th>call_date</th>\n",
       "      <th>duration</th>\n",
       "    </tr>\n",
       "  </thead>\n",
       "  <tbody>\n",
       "    <tr>\n",
       "      <th>0</th>\n",
       "      <td>1000_93</td>\n",
       "      <td>1000</td>\n",
       "      <td>2018-12-27</td>\n",
       "      <td>8.52</td>\n",
       "    </tr>\n",
       "    <tr>\n",
       "      <th>1</th>\n",
       "      <td>1000_145</td>\n",
       "      <td>1000</td>\n",
       "      <td>2018-12-27</td>\n",
       "      <td>13.66</td>\n",
       "    </tr>\n",
       "    <tr>\n",
       "      <th>2</th>\n",
       "      <td>1000_247</td>\n",
       "      <td>1000</td>\n",
       "      <td>2018-12-27</td>\n",
       "      <td>14.48</td>\n",
       "    </tr>\n",
       "    <tr>\n",
       "      <th>3</th>\n",
       "      <td>1000_309</td>\n",
       "      <td>1000</td>\n",
       "      <td>2018-12-28</td>\n",
       "      <td>5.76</td>\n",
       "    </tr>\n",
       "    <tr>\n",
       "      <th>4</th>\n",
       "      <td>1000_380</td>\n",
       "      <td>1000</td>\n",
       "      <td>2018-12-30</td>\n",
       "      <td>4.22</td>\n",
       "    </tr>\n",
       "  </tbody>\n",
       "</table>\n",
       "</div>"
      ],
      "text/plain": [
       "         id  user_id   call_date  duration\n",
       "0   1000_93     1000  2018-12-27      8.52\n",
       "1  1000_145     1000  2018-12-27     13.66\n",
       "2  1000_247     1000  2018-12-27     14.48\n",
       "3  1000_309     1000  2018-12-28      5.76\n",
       "4  1000_380     1000  2018-12-30      4.22"
      ]
     },
     "execution_count": 14,
     "metadata": {},
     "output_type": "execute_result"
    }
   ],
   "source": [
    "# Imprime una muestra de datos para las llamadas\n",
    "df_calls.head()"
   ]
  },
  {
   "cell_type": "markdown",
   "metadata": {
    "id": "DOAxYJSx0q09"
   },
   "source": [
    "**Notas**\n",
    "\n",
    "- La columna id parece una composición del user_id mas un identificador de la llamada, separados por un guión bajo. \n",
    "- No hay valores ausentes.\n",
    "- Cambio del nombre de la columna `duration` por `duration_minutes` con el método rename. \n",
    "- Nombres en minúsculas y snake case. \n",
    "- Cambio del tipo de dato de `call_date` de str a datetime con el método to_datetime().\n",
    "- Añadir una columna con la duración en minutos redoneada hacia arriba. Para redondear hacia arriba se utiliza una función de la librería math llamada ceil()."
   ]
  },
  {
   "cell_type": "markdown",
   "metadata": {
    "id": "S7hzxmbX0q0-"
   },
   "source": [
    "### Corregir los datos"
   ]
  },
  {
   "cell_type": "code",
   "execution_count": 15,
   "metadata": {},
   "outputs": [
    {
     "data": {
      "text/plain": [
       "0"
      ]
     },
     "execution_count": 15,
     "metadata": {},
     "output_type": "execute_result"
    }
   ],
   "source": [
    "# Encontrar filas duplicadas\n",
    "df_calls.duplicated().sum()"
   ]
  },
  {
   "cell_type": "code",
   "execution_count": 16,
   "metadata": {
    "id": "S2r8xA4f0q0-"
   },
   "outputs": [
    {
     "name": "stdout",
     "output_type": "stream",
     "text": [
      "<class 'pandas.core.frame.DataFrame'>\n",
      "RangeIndex: 137735 entries, 0 to 137734\n",
      "Data columns (total 4 columns):\n",
      " #   Column            Non-Null Count   Dtype         \n",
      "---  ------            --------------   -----         \n",
      " 0   id                137735 non-null  object        \n",
      " 1   user_id           137735 non-null  int64         \n",
      " 2   call_date         137735 non-null  datetime64[ns]\n",
      " 3   duration_minutes  137735 non-null  float64       \n",
      "dtypes: datetime64[ns](1), float64(1), int64(1), object(1)\n",
      "memory usage: 4.2+ MB\n"
     ]
    }
   ],
   "source": [
    "# Cambio del nombre de la columna duration por duration_minutes\n",
    "df_calls.rename(columns={'duration':'duration_minutes'},inplace=True)\n",
    "\n",
    "# Cambio del tipo de dato de la columna call_date de str a datetime\n",
    "df_calls['call_date'] = pd.to_datetime(df_calls['call_date'])\n",
    "\n",
    "# Verificar el cambio\n",
    "df_calls.info()"
   ]
  },
  {
   "cell_type": "markdown",
   "metadata": {
    "id": "KrMgTrlG0q0_"
   },
   "source": [
    "### Enriquecer los datos"
   ]
  },
  {
   "cell_type": "code",
   "execution_count": 17,
   "metadata": {
    "id": "iZ1avpA_0q0_"
   },
   "outputs": [
    {
     "data": {
      "text/html": [
       "<div>\n",
       "<style scoped>\n",
       "    .dataframe tbody tr th:only-of-type {\n",
       "        vertical-align: middle;\n",
       "    }\n",
       "\n",
       "    .dataframe tbody tr th {\n",
       "        vertical-align: top;\n",
       "    }\n",
       "\n",
       "    .dataframe thead th {\n",
       "        text-align: right;\n",
       "    }\n",
       "</style>\n",
       "<table border=\"1\" class=\"dataframe\">\n",
       "  <thead>\n",
       "    <tr style=\"text-align: right;\">\n",
       "      <th></th>\n",
       "      <th>id</th>\n",
       "      <th>user_id</th>\n",
       "      <th>call_date</th>\n",
       "      <th>duration_minutes</th>\n",
       "      <th>day</th>\n",
       "      <th>month</th>\n",
       "      <th>duration_minutes_rounded</th>\n",
       "    </tr>\n",
       "  </thead>\n",
       "  <tbody>\n",
       "    <tr>\n",
       "      <th>0</th>\n",
       "      <td>1000_93</td>\n",
       "      <td>1000</td>\n",
       "      <td>2018-12-27</td>\n",
       "      <td>8.52</td>\n",
       "      <td>27</td>\n",
       "      <td>12</td>\n",
       "      <td>9</td>\n",
       "    </tr>\n",
       "    <tr>\n",
       "      <th>1</th>\n",
       "      <td>1000_145</td>\n",
       "      <td>1000</td>\n",
       "      <td>2018-12-27</td>\n",
       "      <td>13.66</td>\n",
       "      <td>27</td>\n",
       "      <td>12</td>\n",
       "      <td>14</td>\n",
       "    </tr>\n",
       "    <tr>\n",
       "      <th>2</th>\n",
       "      <td>1000_247</td>\n",
       "      <td>1000</td>\n",
       "      <td>2018-12-27</td>\n",
       "      <td>14.48</td>\n",
       "      <td>27</td>\n",
       "      <td>12</td>\n",
       "      <td>15</td>\n",
       "    </tr>\n",
       "    <tr>\n",
       "      <th>3</th>\n",
       "      <td>1000_309</td>\n",
       "      <td>1000</td>\n",
       "      <td>2018-12-28</td>\n",
       "      <td>5.76</td>\n",
       "      <td>28</td>\n",
       "      <td>12</td>\n",
       "      <td>6</td>\n",
       "    </tr>\n",
       "    <tr>\n",
       "      <th>4</th>\n",
       "      <td>1000_380</td>\n",
       "      <td>1000</td>\n",
       "      <td>2018-12-30</td>\n",
       "      <td>4.22</td>\n",
       "      <td>30</td>\n",
       "      <td>12</td>\n",
       "      <td>5</td>\n",
       "    </tr>\n",
       "  </tbody>\n",
       "</table>\n",
       "</div>"
      ],
      "text/plain": [
       "         id  user_id  call_date  duration_minutes  day  month  \\\n",
       "0   1000_93     1000 2018-12-27              8.52   27     12   \n",
       "1  1000_145     1000 2018-12-27             13.66   27     12   \n",
       "2  1000_247     1000 2018-12-27             14.48   27     12   \n",
       "3  1000_309     1000 2018-12-28              5.76   28     12   \n",
       "4  1000_380     1000 2018-12-30              4.22   30     12   \n",
       "\n",
       "   duration_minutes_rounded  \n",
       "0                         9  \n",
       "1                        14  \n",
       "2                        15  \n",
       "3                         6  \n",
       "4                         5  "
      ]
     },
     "execution_count": 17,
     "metadata": {},
     "output_type": "execute_result"
    }
   ],
   "source": [
    "# Crear columnas individuales para el día, mes y año a partir de la columna call_date\n",
    "# No es necesario el año al ser el mismo para todos los datos\n",
    "df_calls['day'] = df_calls['call_date'].dt.day\n",
    "df_calls['month'] = df_calls['call_date'].dt.month\n",
    "\n",
    "# Añadir una nueva columna con la duración en minutos redondeada hacia arriba\n",
    "df_calls['duration_minutes_rounded'] = df_calls['duration_minutes'].apply(mt.ceil)\n",
    "\n",
    "# Verificar los cambios\n",
    "df_calls.head()"
   ]
  },
  {
   "cell_type": "markdown",
   "metadata": {
    "id": "mOUZSi180q0_"
   },
   "source": [
    "## Mensajes"
   ]
  },
  {
   "cell_type": "code",
   "execution_count": 18,
   "metadata": {
    "id": "R-bYJpdV0q1A"
   },
   "outputs": [
    {
     "name": "stdout",
     "output_type": "stream",
     "text": [
      "<class 'pandas.core.frame.DataFrame'>\n",
      "RangeIndex: 76051 entries, 0 to 76050\n",
      "Data columns (total 3 columns):\n",
      " #   Column        Non-Null Count  Dtype \n",
      "---  ------        --------------  ----- \n",
      " 0   id            76051 non-null  object\n",
      " 1   user_id       76051 non-null  int64 \n",
      " 2   message_date  76051 non-null  object\n",
      "dtypes: int64(1), object(2)\n",
      "memory usage: 1.7+ MB\n"
     ]
    }
   ],
   "source": [
    "# Imprime la información general/resumida sobre el DataFrame de los mensajes\n",
    "df_messages.info()"
   ]
  },
  {
   "cell_type": "code",
   "execution_count": 19,
   "metadata": {
    "id": "mCEl2iGE0q1A"
   },
   "outputs": [
    {
     "data": {
      "text/html": [
       "<div>\n",
       "<style scoped>\n",
       "    .dataframe tbody tr th:only-of-type {\n",
       "        vertical-align: middle;\n",
       "    }\n",
       "\n",
       "    .dataframe tbody tr th {\n",
       "        vertical-align: top;\n",
       "    }\n",
       "\n",
       "    .dataframe thead th {\n",
       "        text-align: right;\n",
       "    }\n",
       "</style>\n",
       "<table border=\"1\" class=\"dataframe\">\n",
       "  <thead>\n",
       "    <tr style=\"text-align: right;\">\n",
       "      <th></th>\n",
       "      <th>id</th>\n",
       "      <th>user_id</th>\n",
       "      <th>message_date</th>\n",
       "    </tr>\n",
       "  </thead>\n",
       "  <tbody>\n",
       "    <tr>\n",
       "      <th>0</th>\n",
       "      <td>1000_125</td>\n",
       "      <td>1000</td>\n",
       "      <td>2018-12-27</td>\n",
       "    </tr>\n",
       "    <tr>\n",
       "      <th>1</th>\n",
       "      <td>1000_160</td>\n",
       "      <td>1000</td>\n",
       "      <td>2018-12-31</td>\n",
       "    </tr>\n",
       "    <tr>\n",
       "      <th>2</th>\n",
       "      <td>1000_223</td>\n",
       "      <td>1000</td>\n",
       "      <td>2018-12-31</td>\n",
       "    </tr>\n",
       "    <tr>\n",
       "      <th>3</th>\n",
       "      <td>1000_251</td>\n",
       "      <td>1000</td>\n",
       "      <td>2018-12-27</td>\n",
       "    </tr>\n",
       "    <tr>\n",
       "      <th>4</th>\n",
       "      <td>1000_255</td>\n",
       "      <td>1000</td>\n",
       "      <td>2018-12-26</td>\n",
       "    </tr>\n",
       "  </tbody>\n",
       "</table>\n",
       "</div>"
      ],
      "text/plain": [
       "         id  user_id message_date\n",
       "0  1000_125     1000   2018-12-27\n",
       "1  1000_160     1000   2018-12-31\n",
       "2  1000_223     1000   2018-12-31\n",
       "3  1000_251     1000   2018-12-27\n",
       "4  1000_255     1000   2018-12-26"
      ]
     },
     "execution_count": 19,
     "metadata": {},
     "output_type": "execute_result"
    }
   ],
   "source": [
    "# Imprime una muestra de datos para los mensajes\n",
    "df_messages.head()"
   ]
  },
  {
   "cell_type": "markdown",
   "metadata": {
    "id": "04xDj7KH0q1A"
   },
   "source": [
    "**Notas**\n",
    "\n",
    "- La columna id parece una composición del user_id + un identificador del mensaje, separados por un guión bajo. \n",
    "- Se puede cambiar el tipo de dato de la columna `message_date` de str a datetime. \n",
    "- No hay valores ausentes. \n",
    "- Los nombres de las columnas cumplen con estar en minúsculas, uso de snake case y son descriptivos. \n",
    "- Hay 3 columnas, y 76051 filas. "
   ]
  },
  {
   "cell_type": "markdown",
   "metadata": {
    "id": "Sprfak900q1B"
   },
   "source": [
    "### Corregir los datos"
   ]
  },
  {
   "cell_type": "code",
   "execution_count": 20,
   "metadata": {
    "id": "vsllvkoa0q1B",
    "scrolled": true
   },
   "outputs": [
    {
     "data": {
      "text/plain": [
       "0"
      ]
     },
     "execution_count": 20,
     "metadata": {},
     "output_type": "execute_result"
    }
   ],
   "source": [
    "# Verificar que no haya filas totalmente duplicadas.\n",
    "df_messages.duplicated().sum()"
   ]
  },
  {
   "cell_type": "code",
   "execution_count": 21,
   "metadata": {},
   "outputs": [
    {
     "name": "stdout",
     "output_type": "stream",
     "text": [
      "<class 'pandas.core.frame.DataFrame'>\n",
      "RangeIndex: 76051 entries, 0 to 76050\n",
      "Data columns (total 3 columns):\n",
      " #   Column        Non-Null Count  Dtype         \n",
      "---  ------        --------------  -----         \n",
      " 0   id            76051 non-null  object        \n",
      " 1   user_id       76051 non-null  int64         \n",
      " 2   message_date  76051 non-null  datetime64[ns]\n",
      "dtypes: datetime64[ns](1), int64(1), object(1)\n",
      "memory usage: 1.7+ MB\n"
     ]
    }
   ],
   "source": [
    "# Cambiar el tipo de dato de la columna message_date de str a datetime\n",
    "df_messages['message_date'] = pd.to_datetime(df_messages['message_date'])\n",
    "\n",
    "# Verficiar los cambios\n",
    "df_messages.info()"
   ]
  },
  {
   "cell_type": "markdown",
   "metadata": {
    "id": "HvLid7iD0q1B"
   },
   "source": [
    "### Enriquecer los datos"
   ]
  },
  {
   "cell_type": "code",
   "execution_count": 22,
   "metadata": {
    "id": "zYEXZac10q1C"
   },
   "outputs": [
    {
     "data": {
      "text/html": [
       "<div>\n",
       "<style scoped>\n",
       "    .dataframe tbody tr th:only-of-type {\n",
       "        vertical-align: middle;\n",
       "    }\n",
       "\n",
       "    .dataframe tbody tr th {\n",
       "        vertical-align: top;\n",
       "    }\n",
       "\n",
       "    .dataframe thead th {\n",
       "        text-align: right;\n",
       "    }\n",
       "</style>\n",
       "<table border=\"1\" class=\"dataframe\">\n",
       "  <thead>\n",
       "    <tr style=\"text-align: right;\">\n",
       "      <th></th>\n",
       "      <th>id</th>\n",
       "      <th>user_id</th>\n",
       "      <th>message_date</th>\n",
       "      <th>day</th>\n",
       "      <th>month</th>\n",
       "    </tr>\n",
       "  </thead>\n",
       "  <tbody>\n",
       "    <tr>\n",
       "      <th>0</th>\n",
       "      <td>1000_125</td>\n",
       "      <td>1000</td>\n",
       "      <td>2018-12-27</td>\n",
       "      <td>27</td>\n",
       "      <td>12</td>\n",
       "    </tr>\n",
       "    <tr>\n",
       "      <th>1</th>\n",
       "      <td>1000_160</td>\n",
       "      <td>1000</td>\n",
       "      <td>2018-12-31</td>\n",
       "      <td>31</td>\n",
       "      <td>12</td>\n",
       "    </tr>\n",
       "    <tr>\n",
       "      <th>2</th>\n",
       "      <td>1000_223</td>\n",
       "      <td>1000</td>\n",
       "      <td>2018-12-31</td>\n",
       "      <td>31</td>\n",
       "      <td>12</td>\n",
       "    </tr>\n",
       "    <tr>\n",
       "      <th>3</th>\n",
       "      <td>1000_251</td>\n",
       "      <td>1000</td>\n",
       "      <td>2018-12-27</td>\n",
       "      <td>27</td>\n",
       "      <td>12</td>\n",
       "    </tr>\n",
       "    <tr>\n",
       "      <th>4</th>\n",
       "      <td>1000_255</td>\n",
       "      <td>1000</td>\n",
       "      <td>2018-12-26</td>\n",
       "      <td>26</td>\n",
       "      <td>12</td>\n",
       "    </tr>\n",
       "  </tbody>\n",
       "</table>\n",
       "</div>"
      ],
      "text/plain": [
       "         id  user_id message_date  day  month\n",
       "0  1000_125     1000   2018-12-27   27     12\n",
       "1  1000_160     1000   2018-12-31   31     12\n",
       "2  1000_223     1000   2018-12-31   31     12\n",
       "3  1000_251     1000   2018-12-27   27     12\n",
       "4  1000_255     1000   2018-12-26   26     12"
      ]
     },
     "execution_count": 22,
     "metadata": {},
     "output_type": "execute_result"
    }
   ],
   "source": [
    "# Dividir la columna de la fecha en 3 columnas que correspondan al día, mes y año.\n",
    "# No es necesario el año al ser el mismo en todos los años.\n",
    "df_messages['day'] = df_messages['message_date'].dt.day\n",
    "df_messages['month'] = df_messages['message_date'].dt.month\n",
    "\n",
    "# Verificar los cambios\n",
    "df_messages.head()"
   ]
  },
  {
   "cell_type": "markdown",
   "metadata": {
    "id": "bStkaxn40q1C"
   },
   "source": [
    "## Internet"
   ]
  },
  {
   "cell_type": "code",
   "execution_count": 23,
   "metadata": {
    "id": "e-Uz5qyn0q1C"
   },
   "outputs": [
    {
     "name": "stdout",
     "output_type": "stream",
     "text": [
      "<class 'pandas.core.frame.DataFrame'>\n",
      "RangeIndex: 104825 entries, 0 to 104824\n",
      "Data columns (total 4 columns):\n",
      " #   Column        Non-Null Count   Dtype  \n",
      "---  ------        --------------   -----  \n",
      " 0   id            104825 non-null  object \n",
      " 1   user_id       104825 non-null  int64  \n",
      " 2   session_date  104825 non-null  object \n",
      " 3   mb_used       104825 non-null  float64\n",
      "dtypes: float64(1), int64(1), object(2)\n",
      "memory usage: 3.2+ MB\n"
     ]
    }
   ],
   "source": [
    "# Imprime la información general/resumida sobre el DataFrame de internet\n",
    "df_internet.info()"
   ]
  },
  {
   "cell_type": "code",
   "execution_count": 24,
   "metadata": {
    "id": "9r3x_XLw0q1C"
   },
   "outputs": [
    {
     "data": {
      "text/html": [
       "<div>\n",
       "<style scoped>\n",
       "    .dataframe tbody tr th:only-of-type {\n",
       "        vertical-align: middle;\n",
       "    }\n",
       "\n",
       "    .dataframe tbody tr th {\n",
       "        vertical-align: top;\n",
       "    }\n",
       "\n",
       "    .dataframe thead th {\n",
       "        text-align: right;\n",
       "    }\n",
       "</style>\n",
       "<table border=\"1\" class=\"dataframe\">\n",
       "  <thead>\n",
       "    <tr style=\"text-align: right;\">\n",
       "      <th></th>\n",
       "      <th>id</th>\n",
       "      <th>user_id</th>\n",
       "      <th>session_date</th>\n",
       "      <th>mb_used</th>\n",
       "    </tr>\n",
       "  </thead>\n",
       "  <tbody>\n",
       "    <tr>\n",
       "      <th>0</th>\n",
       "      <td>1000_13</td>\n",
       "      <td>1000</td>\n",
       "      <td>2018-12-29</td>\n",
       "      <td>89.86</td>\n",
       "    </tr>\n",
       "    <tr>\n",
       "      <th>1</th>\n",
       "      <td>1000_204</td>\n",
       "      <td>1000</td>\n",
       "      <td>2018-12-31</td>\n",
       "      <td>0.00</td>\n",
       "    </tr>\n",
       "    <tr>\n",
       "      <th>2</th>\n",
       "      <td>1000_379</td>\n",
       "      <td>1000</td>\n",
       "      <td>2018-12-28</td>\n",
       "      <td>660.40</td>\n",
       "    </tr>\n",
       "    <tr>\n",
       "      <th>3</th>\n",
       "      <td>1000_413</td>\n",
       "      <td>1000</td>\n",
       "      <td>2018-12-26</td>\n",
       "      <td>270.99</td>\n",
       "    </tr>\n",
       "    <tr>\n",
       "      <th>4</th>\n",
       "      <td>1000_442</td>\n",
       "      <td>1000</td>\n",
       "      <td>2018-12-27</td>\n",
       "      <td>880.22</td>\n",
       "    </tr>\n",
       "  </tbody>\n",
       "</table>\n",
       "</div>"
      ],
      "text/plain": [
       "         id  user_id session_date  mb_used\n",
       "0   1000_13     1000   2018-12-29    89.86\n",
       "1  1000_204     1000   2018-12-31     0.00\n",
       "2  1000_379     1000   2018-12-28   660.40\n",
       "3  1000_413     1000   2018-12-26   270.99\n",
       "4  1000_442     1000   2018-12-27   880.22"
      ]
     },
     "execution_count": 24,
     "metadata": {},
     "output_type": "execute_result"
    }
   ],
   "source": [
    "# Imprime una muestra de datos para el tráfico de internet\n",
    "df_internet.head()"
   ]
  },
  {
   "cell_type": "markdown",
   "metadata": {
    "id": "EzOG5ik30q1D"
   },
   "source": [
    "**Notas**\n",
    "\n",
    "- Columnas descriptivas con uso de minúsculas y snake_case.\n",
    "- La columna id es una composición del user_id y un identificador de sesión de internet, separados por un guión bajo. \n",
    "- No hay valores ausentes. \n",
    "- La columna session_date tiene el tipo de dato str, puede ser cambiada por datetime. Con el método to_datetime(). \n",
    "- Hay 4 columnas y 104825 filas."
   ]
  },
  {
   "cell_type": "markdown",
   "metadata": {
    "id": "yA0tkPFg0q1D"
   },
   "source": [
    "### Corregir los datos"
   ]
  },
  {
   "cell_type": "code",
   "execution_count": 25,
   "metadata": {
    "id": "zVeanzdd0q1E"
   },
   "outputs": [
    {
     "data": {
      "text/plain": [
       "0"
      ]
     },
     "execution_count": 25,
     "metadata": {},
     "output_type": "execute_result"
    }
   ],
   "source": [
    "# Verificar que no haya columnas totalmente duplicadas\n",
    "df_internet.duplicated().sum()"
   ]
  },
  {
   "cell_type": "code",
   "execution_count": 26,
   "metadata": {},
   "outputs": [
    {
     "name": "stdout",
     "output_type": "stream",
     "text": [
      "<class 'pandas.core.frame.DataFrame'>\n",
      "RangeIndex: 104825 entries, 0 to 104824\n",
      "Data columns (total 4 columns):\n",
      " #   Column        Non-Null Count   Dtype         \n",
      "---  ------        --------------   -----         \n",
      " 0   id            104825 non-null  object        \n",
      " 1   user_id       104825 non-null  int64         \n",
      " 2   session_date  104825 non-null  datetime64[ns]\n",
      " 3   mb_used       104825 non-null  float64       \n",
      "dtypes: datetime64[ns](1), float64(1), int64(1), object(1)\n",
      "memory usage: 3.2+ MB\n"
     ]
    }
   ],
   "source": [
    "# Cambiar el tipo de dato de str a datetime para la columna session_date\n",
    "df_internet['session_date'] = pd.to_datetime(df_internet['session_date'])\n",
    "\n",
    "# Verificar los cambios\n",
    "df_internet.info()"
   ]
  },
  {
   "cell_type": "markdown",
   "metadata": {
    "id": "e8_mLF4a0q1E"
   },
   "source": [
    "### Enriquecer los datos"
   ]
  },
  {
   "cell_type": "code",
   "execution_count": 27,
   "metadata": {
    "id": "ESiYPIEK0q1E"
   },
   "outputs": [
    {
     "data": {
      "text/html": [
       "<div>\n",
       "<style scoped>\n",
       "    .dataframe tbody tr th:only-of-type {\n",
       "        vertical-align: middle;\n",
       "    }\n",
       "\n",
       "    .dataframe tbody tr th {\n",
       "        vertical-align: top;\n",
       "    }\n",
       "\n",
       "    .dataframe thead th {\n",
       "        text-align: right;\n",
       "    }\n",
       "</style>\n",
       "<table border=\"1\" class=\"dataframe\">\n",
       "  <thead>\n",
       "    <tr style=\"text-align: right;\">\n",
       "      <th></th>\n",
       "      <th>id</th>\n",
       "      <th>user_id</th>\n",
       "      <th>session_date</th>\n",
       "      <th>mb_used</th>\n",
       "      <th>month</th>\n",
       "      <th>gb_used</th>\n",
       "    </tr>\n",
       "  </thead>\n",
       "  <tbody>\n",
       "    <tr>\n",
       "      <th>0</th>\n",
       "      <td>1000_13</td>\n",
       "      <td>1000</td>\n",
       "      <td>2018-12-29</td>\n",
       "      <td>89.86</td>\n",
       "      <td>12</td>\n",
       "      <td>0.087754</td>\n",
       "    </tr>\n",
       "    <tr>\n",
       "      <th>1</th>\n",
       "      <td>1000_204</td>\n",
       "      <td>1000</td>\n",
       "      <td>2018-12-31</td>\n",
       "      <td>0.00</td>\n",
       "      <td>12</td>\n",
       "      <td>0.000000</td>\n",
       "    </tr>\n",
       "    <tr>\n",
       "      <th>2</th>\n",
       "      <td>1000_379</td>\n",
       "      <td>1000</td>\n",
       "      <td>2018-12-28</td>\n",
       "      <td>660.40</td>\n",
       "      <td>12</td>\n",
       "      <td>0.644922</td>\n",
       "    </tr>\n",
       "    <tr>\n",
       "      <th>3</th>\n",
       "      <td>1000_413</td>\n",
       "      <td>1000</td>\n",
       "      <td>2018-12-26</td>\n",
       "      <td>270.99</td>\n",
       "      <td>12</td>\n",
       "      <td>0.264639</td>\n",
       "    </tr>\n",
       "    <tr>\n",
       "      <th>4</th>\n",
       "      <td>1000_442</td>\n",
       "      <td>1000</td>\n",
       "      <td>2018-12-27</td>\n",
       "      <td>880.22</td>\n",
       "      <td>12</td>\n",
       "      <td>0.859590</td>\n",
       "    </tr>\n",
       "  </tbody>\n",
       "</table>\n",
       "</div>"
      ],
      "text/plain": [
       "         id  user_id session_date  mb_used  month   gb_used\n",
       "0   1000_13     1000   2018-12-29    89.86     12  0.087754\n",
       "1  1000_204     1000   2018-12-31     0.00     12  0.000000\n",
       "2  1000_379     1000   2018-12-28   660.40     12  0.644922\n",
       "3  1000_413     1000   2018-12-26   270.99     12  0.264639\n",
       "4  1000_442     1000   2018-12-27   880.22     12  0.859590"
      ]
     },
     "execution_count": 27,
     "metadata": {},
     "output_type": "execute_result"
    }
   ],
   "source": [
    "# Extraer el mes de la columna que contiene la fecha para calculos posteriores\n",
    "df_internet['month'] = df_internet['session_date'].dt.month\n",
    "\n",
    "# Crear una nueva columna con la conversión de mb a gb llamada gb_used\n",
    "df_internet['gb_used'] = df_internet['mb_used'] / 1024\n",
    "\n",
    "# Verificar los cambios\n",
    "df_internet.head()"
   ]
  },
  {
   "cell_type": "markdown",
   "metadata": {
    "id": "3UA2cqIW0q1E"
   },
   "source": [
    "# Estudiar las condiciones de las tarifas"
   ]
  },
  {
   "cell_type": "code",
   "execution_count": 28,
   "metadata": {
    "id": "i409op8p0q1F"
   },
   "outputs": [
    {
     "data": {
      "text/html": [
       "<div>\n",
       "<style scoped>\n",
       "    .dataframe tbody tr th:only-of-type {\n",
       "        vertical-align: middle;\n",
       "    }\n",
       "\n",
       "    .dataframe tbody tr th {\n",
       "        vertical-align: top;\n",
       "    }\n",
       "\n",
       "    .dataframe thead th {\n",
       "        text-align: right;\n",
       "    }\n",
       "</style>\n",
       "<table border=\"1\" class=\"dataframe\">\n",
       "  <thead>\n",
       "    <tr style=\"text-align: right;\">\n",
       "      <th></th>\n",
       "      <th>messages_included</th>\n",
       "      <th>mb_per_month_included</th>\n",
       "      <th>minutes_included</th>\n",
       "      <th>usd_monthly_pay</th>\n",
       "      <th>usd_per_gb</th>\n",
       "      <th>usd_per_message</th>\n",
       "      <th>usd_per_minute</th>\n",
       "      <th>plan_name</th>\n",
       "      <th>gb_per_month_included</th>\n",
       "    </tr>\n",
       "  </thead>\n",
       "  <tbody>\n",
       "    <tr>\n",
       "      <th>0</th>\n",
       "      <td>50</td>\n",
       "      <td>15360</td>\n",
       "      <td>500</td>\n",
       "      <td>20</td>\n",
       "      <td>10</td>\n",
       "      <td>0.03</td>\n",
       "      <td>0.03</td>\n",
       "      <td>surf</td>\n",
       "      <td>15</td>\n",
       "    </tr>\n",
       "    <tr>\n",
       "      <th>1</th>\n",
       "      <td>1000</td>\n",
       "      <td>30720</td>\n",
       "      <td>3000</td>\n",
       "      <td>70</td>\n",
       "      <td>7</td>\n",
       "      <td>0.01</td>\n",
       "      <td>0.01</td>\n",
       "      <td>ultimate</td>\n",
       "      <td>30</td>\n",
       "    </tr>\n",
       "  </tbody>\n",
       "</table>\n",
       "</div>"
      ],
      "text/plain": [
       "   messages_included  mb_per_month_included  minutes_included  \\\n",
       "0                 50                  15360               500   \n",
       "1               1000                  30720              3000   \n",
       "\n",
       "   usd_monthly_pay  usd_per_gb  usd_per_message  usd_per_minute plan_name  \\\n",
       "0               20          10             0.03            0.03      surf   \n",
       "1               70           7             0.01            0.01  ultimate   \n",
       "\n",
       "   gb_per_month_included  \n",
       "0                     15  \n",
       "1                     30  "
      ]
     },
     "execution_count": 28,
     "metadata": {},
     "output_type": "execute_result"
    }
   ],
   "source": [
    "# Imprime las condiciones de la tarifa\n",
    "df_plans.head()\n",
    "\n",
    "# Las tarifas se cobran por mes. \n",
    "# Estas incluyen cierta cantidad de mensajes, mb para internet y minutos para llamadas.\n",
    "# Una vez excedidos estos valores hay una tarifa para el exceso de gb de internet, mensajes y llamadas. \n",
    "# Solo existen dos planes, surf y ultimate. Ultimate es el plan mas costoso y con mayores beneficios."
   ]
  },
  {
   "cell_type": "code",
   "execution_count": 29,
   "metadata": {
    "id": "A332cedB0q1G",
    "scrolled": true
   },
   "outputs": [
    {
     "data": {
      "text/html": [
       "<div>\n",
       "<style scoped>\n",
       "    .dataframe tbody tr th:only-of-type {\n",
       "        vertical-align: middle;\n",
       "    }\n",
       "\n",
       "    .dataframe tbody tr th {\n",
       "        vertical-align: top;\n",
       "    }\n",
       "\n",
       "    .dataframe thead th {\n",
       "        text-align: right;\n",
       "    }\n",
       "</style>\n",
       "<table border=\"1\" class=\"dataframe\">\n",
       "  <thead>\n",
       "    <tr style=\"text-align: right;\">\n",
       "      <th></th>\n",
       "      <th>user_id</th>\n",
       "      <th>month</th>\n",
       "      <th>calls</th>\n",
       "    </tr>\n",
       "  </thead>\n",
       "  <tbody>\n",
       "    <tr>\n",
       "      <th>0</th>\n",
       "      <td>1000</td>\n",
       "      <td>12</td>\n",
       "      <td>16</td>\n",
       "    </tr>\n",
       "    <tr>\n",
       "      <th>1</th>\n",
       "      <td>1001</td>\n",
       "      <td>8</td>\n",
       "      <td>27</td>\n",
       "    </tr>\n",
       "    <tr>\n",
       "      <th>2</th>\n",
       "      <td>1001</td>\n",
       "      <td>9</td>\n",
       "      <td>49</td>\n",
       "    </tr>\n",
       "    <tr>\n",
       "      <th>3</th>\n",
       "      <td>1001</td>\n",
       "      <td>10</td>\n",
       "      <td>65</td>\n",
       "    </tr>\n",
       "    <tr>\n",
       "      <th>4</th>\n",
       "      <td>1001</td>\n",
       "      <td>11</td>\n",
       "      <td>64</td>\n",
       "    </tr>\n",
       "    <tr>\n",
       "      <th>...</th>\n",
       "      <td>...</td>\n",
       "      <td>...</td>\n",
       "      <td>...</td>\n",
       "    </tr>\n",
       "    <tr>\n",
       "      <th>2253</th>\n",
       "      <td>1498</td>\n",
       "      <td>12</td>\n",
       "      <td>39</td>\n",
       "    </tr>\n",
       "    <tr>\n",
       "      <th>2254</th>\n",
       "      <td>1499</td>\n",
       "      <td>9</td>\n",
       "      <td>41</td>\n",
       "    </tr>\n",
       "    <tr>\n",
       "      <th>2255</th>\n",
       "      <td>1499</td>\n",
       "      <td>10</td>\n",
       "      <td>53</td>\n",
       "    </tr>\n",
       "    <tr>\n",
       "      <th>2256</th>\n",
       "      <td>1499</td>\n",
       "      <td>11</td>\n",
       "      <td>45</td>\n",
       "    </tr>\n",
       "    <tr>\n",
       "      <th>2257</th>\n",
       "      <td>1499</td>\n",
       "      <td>12</td>\n",
       "      <td>65</td>\n",
       "    </tr>\n",
       "  </tbody>\n",
       "</table>\n",
       "<p>2258 rows × 3 columns</p>\n",
       "</div>"
      ],
      "text/plain": [
       "      user_id  month  calls\n",
       "0        1000     12     16\n",
       "1        1001      8     27\n",
       "2        1001      9     49\n",
       "3        1001     10     65\n",
       "4        1001     11     64\n",
       "...       ...    ...    ...\n",
       "2253     1498     12     39\n",
       "2254     1499      9     41\n",
       "2255     1499     10     53\n",
       "2256     1499     11     45\n",
       "2257     1499     12     65\n",
       "\n",
       "[2258 rows x 3 columns]"
      ]
     },
     "execution_count": 29,
     "metadata": {},
     "output_type": "execute_result"
    }
   ],
   "source": [
    "# Calcula el número de llamadas hechas por cada usuario al mes. \n",
    "# Se recuperan las columnas que se convirtieron en indices con reset_index\n",
    "# Guarda el resultado.\n",
    "df_user_calls_per_month = df_calls.groupby(['user_id','month'])['id'].count().reset_index()\n",
    "# Renombrar la ultima columna\n",
    "df_user_calls_per_month.columns = ['user_id','month','calls']\n",
    "\n",
    "# Verificar el dataframe\n",
    "df_user_calls_per_month"
   ]
  },
  {
   "cell_type": "code",
   "execution_count": 30,
   "metadata": {
    "id": "aw2cmuql0q1G",
    "scrolled": true
   },
   "outputs": [
    {
     "data": {
      "text/html": [
       "<div>\n",
       "<style scoped>\n",
       "    .dataframe tbody tr th:only-of-type {\n",
       "        vertical-align: middle;\n",
       "    }\n",
       "\n",
       "    .dataframe tbody tr th {\n",
       "        vertical-align: top;\n",
       "    }\n",
       "\n",
       "    .dataframe thead th {\n",
       "        text-align: right;\n",
       "    }\n",
       "</style>\n",
       "<table border=\"1\" class=\"dataframe\">\n",
       "  <thead>\n",
       "    <tr style=\"text-align: right;\">\n",
       "      <th></th>\n",
       "      <th>user_id</th>\n",
       "      <th>month</th>\n",
       "      <th>call_minutes</th>\n",
       "    </tr>\n",
       "  </thead>\n",
       "  <tbody>\n",
       "    <tr>\n",
       "      <th>0</th>\n",
       "      <td>1000</td>\n",
       "      <td>12</td>\n",
       "      <td>124</td>\n",
       "    </tr>\n",
       "    <tr>\n",
       "      <th>1</th>\n",
       "      <td>1001</td>\n",
       "      <td>8</td>\n",
       "      <td>182</td>\n",
       "    </tr>\n",
       "    <tr>\n",
       "      <th>2</th>\n",
       "      <td>1001</td>\n",
       "      <td>9</td>\n",
       "      <td>315</td>\n",
       "    </tr>\n",
       "    <tr>\n",
       "      <th>3</th>\n",
       "      <td>1001</td>\n",
       "      <td>10</td>\n",
       "      <td>393</td>\n",
       "    </tr>\n",
       "    <tr>\n",
       "      <th>4</th>\n",
       "      <td>1001</td>\n",
       "      <td>11</td>\n",
       "      <td>426</td>\n",
       "    </tr>\n",
       "    <tr>\n",
       "      <th>...</th>\n",
       "      <td>...</td>\n",
       "      <td>...</td>\n",
       "      <td>...</td>\n",
       "    </tr>\n",
       "    <tr>\n",
       "      <th>2253</th>\n",
       "      <td>1498</td>\n",
       "      <td>12</td>\n",
       "      <td>339</td>\n",
       "    </tr>\n",
       "    <tr>\n",
       "      <th>2254</th>\n",
       "      <td>1499</td>\n",
       "      <td>9</td>\n",
       "      <td>346</td>\n",
       "    </tr>\n",
       "    <tr>\n",
       "      <th>2255</th>\n",
       "      <td>1499</td>\n",
       "      <td>10</td>\n",
       "      <td>385</td>\n",
       "    </tr>\n",
       "    <tr>\n",
       "      <th>2256</th>\n",
       "      <td>1499</td>\n",
       "      <td>11</td>\n",
       "      <td>308</td>\n",
       "    </tr>\n",
       "    <tr>\n",
       "      <th>2257</th>\n",
       "      <td>1499</td>\n",
       "      <td>12</td>\n",
       "      <td>496</td>\n",
       "    </tr>\n",
       "  </tbody>\n",
       "</table>\n",
       "<p>2258 rows × 3 columns</p>\n",
       "</div>"
      ],
      "text/plain": [
       "      user_id  month  call_minutes\n",
       "0        1000     12           124\n",
       "1        1001      8           182\n",
       "2        1001      9           315\n",
       "3        1001     10           393\n",
       "4        1001     11           426\n",
       "...       ...    ...           ...\n",
       "2253     1498     12           339\n",
       "2254     1499      9           346\n",
       "2255     1499     10           385\n",
       "2256     1499     11           308\n",
       "2257     1499     12           496\n",
       "\n",
       "[2258 rows x 3 columns]"
      ]
     },
     "execution_count": 30,
     "metadata": {},
     "output_type": "execute_result"
    }
   ],
   "source": [
    "# Calcula la cantidad de minutos usados por cada usuario al mes. Guarda el resultado.\n",
    "# Se usaran los minutos redondeados. \n",
    "# Se recuperan las columnas que se convirtieron en indices con reset_index\n",
    "df_user_minutes_per_month = df_calls.groupby(['user_id','month'])['duration_minutes_rounded'].sum().reset_index()\n",
    "\n",
    "# Renombrar la columna duration_minutes_rounded\n",
    "df_user_minutes_per_month.columns = ['user_id','month','call_minutes']\n",
    "\n",
    "# Verificar el dataframe\n",
    "df_user_minutes_per_month"
   ]
  },
  {
   "cell_type": "code",
   "execution_count": 31,
   "metadata": {
    "id": "CcQvNHn60q1G",
    "scrolled": false
   },
   "outputs": [
    {
     "data": {
      "text/html": [
       "<div>\n",
       "<style scoped>\n",
       "    .dataframe tbody tr th:only-of-type {\n",
       "        vertical-align: middle;\n",
       "    }\n",
       "\n",
       "    .dataframe tbody tr th {\n",
       "        vertical-align: top;\n",
       "    }\n",
       "\n",
       "    .dataframe thead th {\n",
       "        text-align: right;\n",
       "    }\n",
       "</style>\n",
       "<table border=\"1\" class=\"dataframe\">\n",
       "  <thead>\n",
       "    <tr style=\"text-align: right;\">\n",
       "      <th></th>\n",
       "      <th>user_id</th>\n",
       "      <th>month</th>\n",
       "      <th>messages</th>\n",
       "    </tr>\n",
       "  </thead>\n",
       "  <tbody>\n",
       "    <tr>\n",
       "      <th>0</th>\n",
       "      <td>1000</td>\n",
       "      <td>12</td>\n",
       "      <td>11</td>\n",
       "    </tr>\n",
       "    <tr>\n",
       "      <th>1</th>\n",
       "      <td>1001</td>\n",
       "      <td>8</td>\n",
       "      <td>30</td>\n",
       "    </tr>\n",
       "    <tr>\n",
       "      <th>2</th>\n",
       "      <td>1001</td>\n",
       "      <td>9</td>\n",
       "      <td>44</td>\n",
       "    </tr>\n",
       "    <tr>\n",
       "      <th>3</th>\n",
       "      <td>1001</td>\n",
       "      <td>10</td>\n",
       "      <td>53</td>\n",
       "    </tr>\n",
       "    <tr>\n",
       "      <th>4</th>\n",
       "      <td>1001</td>\n",
       "      <td>11</td>\n",
       "      <td>36</td>\n",
       "    </tr>\n",
       "    <tr>\n",
       "      <th>...</th>\n",
       "      <td>...</td>\n",
       "      <td>...</td>\n",
       "      <td>...</td>\n",
       "    </tr>\n",
       "    <tr>\n",
       "      <th>1801</th>\n",
       "      <td>1496</td>\n",
       "      <td>9</td>\n",
       "      <td>21</td>\n",
       "    </tr>\n",
       "    <tr>\n",
       "      <th>1802</th>\n",
       "      <td>1496</td>\n",
       "      <td>10</td>\n",
       "      <td>18</td>\n",
       "    </tr>\n",
       "    <tr>\n",
       "      <th>1803</th>\n",
       "      <td>1496</td>\n",
       "      <td>11</td>\n",
       "      <td>13</td>\n",
       "    </tr>\n",
       "    <tr>\n",
       "      <th>1804</th>\n",
       "      <td>1496</td>\n",
       "      <td>12</td>\n",
       "      <td>11</td>\n",
       "    </tr>\n",
       "    <tr>\n",
       "      <th>1805</th>\n",
       "      <td>1497</td>\n",
       "      <td>12</td>\n",
       "      <td>50</td>\n",
       "    </tr>\n",
       "  </tbody>\n",
       "</table>\n",
       "<p>1806 rows × 3 columns</p>\n",
       "</div>"
      ],
      "text/plain": [
       "      user_id  month  messages\n",
       "0        1000     12        11\n",
       "1        1001      8        30\n",
       "2        1001      9        44\n",
       "3        1001     10        53\n",
       "4        1001     11        36\n",
       "...       ...    ...       ...\n",
       "1801     1496      9        21\n",
       "1802     1496     10        18\n",
       "1803     1496     11        13\n",
       "1804     1496     12        11\n",
       "1805     1497     12        50\n",
       "\n",
       "[1806 rows x 3 columns]"
      ]
     },
     "execution_count": 31,
     "metadata": {},
     "output_type": "execute_result"
    }
   ],
   "source": [
    "# Calcula el número de mensajes enviados por cada usuario al mes. Guarda el resultado.\n",
    "df_user_messages_per_month = df_messages.groupby(['user_id','month'])['id'].count().reset_index()\n",
    "\n",
    "# Renombrar la columna del conteo \n",
    "df_user_messages_per_month.columns = ['user_id','month','messages']\n",
    "\n",
    "df_user_messages_per_month"
   ]
  },
  {
   "cell_type": "code",
   "execution_count": 32,
   "metadata": {
    "id": "H1AqN2eG0q1H",
    "scrolled": true
   },
   "outputs": [
    {
     "data": {
      "text/html": [
       "<div>\n",
       "<style scoped>\n",
       "    .dataframe tbody tr th:only-of-type {\n",
       "        vertical-align: middle;\n",
       "    }\n",
       "\n",
       "    .dataframe tbody tr th {\n",
       "        vertical-align: top;\n",
       "    }\n",
       "\n",
       "    .dataframe thead th {\n",
       "        text-align: right;\n",
       "    }\n",
       "</style>\n",
       "<table border=\"1\" class=\"dataframe\">\n",
       "  <thead>\n",
       "    <tr style=\"text-align: right;\">\n",
       "      <th></th>\n",
       "      <th>user_id</th>\n",
       "      <th>month</th>\n",
       "      <th>gb_used</th>\n",
       "    </tr>\n",
       "  </thead>\n",
       "  <tbody>\n",
       "    <tr>\n",
       "      <th>0</th>\n",
       "      <td>1000</td>\n",
       "      <td>12</td>\n",
       "      <td>1.856904</td>\n",
       "    </tr>\n",
       "    <tr>\n",
       "      <th>1</th>\n",
       "      <td>1001</td>\n",
       "      <td>8</td>\n",
       "      <td>6.756982</td>\n",
       "    </tr>\n",
       "    <tr>\n",
       "      <th>2</th>\n",
       "      <td>1001</td>\n",
       "      <td>9</td>\n",
       "      <td>13.002754</td>\n",
       "    </tr>\n",
       "    <tr>\n",
       "      <th>3</th>\n",
       "      <td>1001</td>\n",
       "      <td>10</td>\n",
       "      <td>21.807119</td>\n",
       "    </tr>\n",
       "    <tr>\n",
       "      <th>4</th>\n",
       "      <td>1001</td>\n",
       "      <td>11</td>\n",
       "      <td>18.070605</td>\n",
       "    </tr>\n",
       "    <tr>\n",
       "      <th>...</th>\n",
       "      <td>...</td>\n",
       "      <td>...</td>\n",
       "      <td>...</td>\n",
       "    </tr>\n",
       "    <tr>\n",
       "      <th>2272</th>\n",
       "      <td>1498</td>\n",
       "      <td>12</td>\n",
       "      <td>22.595400</td>\n",
       "    </tr>\n",
       "    <tr>\n",
       "      <th>2273</th>\n",
       "      <td>1499</td>\n",
       "      <td>9</td>\n",
       "      <td>12.680430</td>\n",
       "    </tr>\n",
       "    <tr>\n",
       "      <th>2274</th>\n",
       "      <td>1499</td>\n",
       "      <td>10</td>\n",
       "      <td>19.035576</td>\n",
       "    </tr>\n",
       "    <tr>\n",
       "      <th>2275</th>\n",
       "      <td>1499</td>\n",
       "      <td>11</td>\n",
       "      <td>16.419756</td>\n",
       "    </tr>\n",
       "    <tr>\n",
       "      <th>2276</th>\n",
       "      <td>1499</td>\n",
       "      <td>12</td>\n",
       "      <td>21.542197</td>\n",
       "    </tr>\n",
       "  </tbody>\n",
       "</table>\n",
       "<p>2277 rows × 3 columns</p>\n",
       "</div>"
      ],
      "text/plain": [
       "      user_id  month    gb_used\n",
       "0        1000     12   1.856904\n",
       "1        1001      8   6.756982\n",
       "2        1001      9  13.002754\n",
       "3        1001     10  21.807119\n",
       "4        1001     11  18.070605\n",
       "...       ...    ...        ...\n",
       "2272     1498     12  22.595400\n",
       "2273     1499      9  12.680430\n",
       "2274     1499     10  19.035576\n",
       "2275     1499     11  16.419756\n",
       "2276     1499     12  21.542197\n",
       "\n",
       "[2277 rows x 3 columns]"
      ]
     },
     "execution_count": 32,
     "metadata": {},
     "output_type": "execute_result"
    }
   ],
   "source": [
    "# Calcula el volumen del tráfico de Internet usado por cada usuario al mes. Guarda el resultado.\n",
    "df_user_gb_per_month = df_internet.groupby(['user_id','month'])['gb_used'].sum().reset_index()\n",
    "\n",
    "# Verificar el dataframe\n",
    "df_user_gb_per_month"
   ]
  },
  {
   "cell_type": "code",
   "execution_count": 33,
   "metadata": {
    "scrolled": true
   },
   "outputs": [
    {
     "data": {
      "text/html": [
       "<div>\n",
       "<style scoped>\n",
       "    .dataframe tbody tr th:only-of-type {\n",
       "        vertical-align: middle;\n",
       "    }\n",
       "\n",
       "    .dataframe tbody tr th {\n",
       "        vertical-align: top;\n",
       "    }\n",
       "\n",
       "    .dataframe thead th {\n",
       "        text-align: right;\n",
       "    }\n",
       "</style>\n",
       "<table border=\"1\" class=\"dataframe\">\n",
       "  <thead>\n",
       "    <tr style=\"text-align: right;\">\n",
       "      <th></th>\n",
       "      <th>user_id</th>\n",
       "      <th>month</th>\n",
       "      <th>calls</th>\n",
       "      <th>call_minutes</th>\n",
       "      <th>messages</th>\n",
       "      <th>gb_used</th>\n",
       "      <th>plan</th>\n",
       "    </tr>\n",
       "  </thead>\n",
       "  <tbody>\n",
       "    <tr>\n",
       "      <th>0</th>\n",
       "      <td>1000</td>\n",
       "      <td>12</td>\n",
       "      <td>16</td>\n",
       "      <td>124</td>\n",
       "      <td>11</td>\n",
       "      <td>2</td>\n",
       "      <td>ultimate</td>\n",
       "    </tr>\n",
       "    <tr>\n",
       "      <th>1</th>\n",
       "      <td>1001</td>\n",
       "      <td>8</td>\n",
       "      <td>27</td>\n",
       "      <td>182</td>\n",
       "      <td>30</td>\n",
       "      <td>7</td>\n",
       "      <td>surf</td>\n",
       "    </tr>\n",
       "    <tr>\n",
       "      <th>2</th>\n",
       "      <td>1001</td>\n",
       "      <td>9</td>\n",
       "      <td>49</td>\n",
       "      <td>315</td>\n",
       "      <td>44</td>\n",
       "      <td>14</td>\n",
       "      <td>surf</td>\n",
       "    </tr>\n",
       "    <tr>\n",
       "      <th>3</th>\n",
       "      <td>1001</td>\n",
       "      <td>10</td>\n",
       "      <td>65</td>\n",
       "      <td>393</td>\n",
       "      <td>53</td>\n",
       "      <td>22</td>\n",
       "      <td>surf</td>\n",
       "    </tr>\n",
       "    <tr>\n",
       "      <th>4</th>\n",
       "      <td>1001</td>\n",
       "      <td>11</td>\n",
       "      <td>64</td>\n",
       "      <td>426</td>\n",
       "      <td>36</td>\n",
       "      <td>19</td>\n",
       "      <td>surf</td>\n",
       "    </tr>\n",
       "    <tr>\n",
       "      <th>...</th>\n",
       "      <td>...</td>\n",
       "      <td>...</td>\n",
       "      <td>...</td>\n",
       "      <td>...</td>\n",
       "      <td>...</td>\n",
       "      <td>...</td>\n",
       "      <td>...</td>\n",
       "    </tr>\n",
       "    <tr>\n",
       "      <th>2292</th>\n",
       "      <td>1498</td>\n",
       "      <td>6</td>\n",
       "      <td>37</td>\n",
       "      <td>238</td>\n",
       "      <td>0</td>\n",
       "      <td>15</td>\n",
       "      <td>surf</td>\n",
       "    </tr>\n",
       "    <tr>\n",
       "      <th>2300</th>\n",
       "      <td>1499</td>\n",
       "      <td>10</td>\n",
       "      <td>53</td>\n",
       "      <td>385</td>\n",
       "      <td>0</td>\n",
       "      <td>20</td>\n",
       "      <td>surf</td>\n",
       "    </tr>\n",
       "    <tr>\n",
       "      <th>2301</th>\n",
       "      <td>1499</td>\n",
       "      <td>11</td>\n",
       "      <td>45</td>\n",
       "      <td>308</td>\n",
       "      <td>0</td>\n",
       "      <td>17</td>\n",
       "      <td>surf</td>\n",
       "    </tr>\n",
       "    <tr>\n",
       "      <th>2299</th>\n",
       "      <td>1499</td>\n",
       "      <td>9</td>\n",
       "      <td>41</td>\n",
       "      <td>346</td>\n",
       "      <td>0</td>\n",
       "      <td>13</td>\n",
       "      <td>surf</td>\n",
       "    </tr>\n",
       "    <tr>\n",
       "      <th>2302</th>\n",
       "      <td>1499</td>\n",
       "      <td>12</td>\n",
       "      <td>65</td>\n",
       "      <td>496</td>\n",
       "      <td>0</td>\n",
       "      <td>22</td>\n",
       "      <td>surf</td>\n",
       "    </tr>\n",
       "  </tbody>\n",
       "</table>\n",
       "<p>2293 rows × 7 columns</p>\n",
       "</div>"
      ],
      "text/plain": [
       "      user_id  month  calls  call_minutes  messages  gb_used      plan\n",
       "0        1000     12     16           124        11        2  ultimate\n",
       "1        1001      8     27           182        30        7      surf\n",
       "2        1001      9     49           315        44       14      surf\n",
       "3        1001     10     65           393        53       22      surf\n",
       "4        1001     11     64           426        36       19      surf\n",
       "...       ...    ...    ...           ...       ...      ...       ...\n",
       "2292     1498      6     37           238         0       15      surf\n",
       "2300     1499     10     53           385         0       20      surf\n",
       "2301     1499     11     45           308         0       17      surf\n",
       "2299     1499      9     41           346         0       13      surf\n",
       "2302     1499     12     65           496         0       22      surf\n",
       "\n",
       "[2293 rows x 7 columns]"
      ]
     },
     "execution_count": 33,
     "metadata": {},
     "output_type": "execute_result"
    }
   ],
   "source": [
    "# Fusiona los datos de llamadas, minutos, mensajes e Internet con base en user_id y month\n",
    "\n",
    "# Obtener un dataframe con todos los user_id, meses y sus tarifas. \n",
    "df_users_month_plan = df_users[['user_id','plan']]\n",
    "\n",
    "# Fusionar el datafrme del numero de llamadas con el de minutos de llamadas\n",
    "df_users_plan_per_month = df_user_calls_per_month.merge(df_user_minutes_per_month[['user_id','month','call_minutes']],  \n",
    "                                                        on=['user_id','month'],\n",
    "                                                        how='outer')\n",
    "\n",
    "# Agregar el dataframe de mensajes por mes\n",
    "df_users_plan_per_month = df_users_plan_per_month.merge(df_user_messages_per_month[['user_id','month','messages']], \n",
    "                                                        on=['user_id','month'],\n",
    "                                                        how='outer')\n",
    "\n",
    "# Agregar el dataframe de gb usados por mes\n",
    "df_users_plan_per_month = df_users_plan_per_month.merge(df_user_gb_per_month[['user_id','month','gb_used']], \n",
    "                                                        on=['user_id','month'],\n",
    "                                                        how='outer')\n",
    "\n",
    "# Agregar los user_ids que tienen plan pero no realizaron ningun servicio\n",
    "df_users_plan_per_month = df_users_plan_per_month.merge(df_users_month_plan,  \n",
    "                                                        on='user_id',\n",
    "                                                        how='right')\n",
    "\n",
    "# Rellenar los valores ausentes que se ocacionaron porque no existen.\n",
    "# Son igual a 0.\n",
    "df_users_plan_per_month[['calls','call_minutes','messages','gb_used']] = df_users_plan_per_month[['calls','call_minutes','messages','gb_used']].fillna(0)\n",
    "\n",
    "# Se encontraron 10 usuarios que contrataron un plan pero no consumieron ningun servicio\n",
    "# van a ser eliminados\n",
    "df_users_plan_per_month.dropna(inplace=True)\n",
    "\n",
    "# Aplicar el redondeo a la columna gb_used\n",
    "df_users_plan_per_month['gb_used'] = df_users_plan_per_month['gb_used'].apply(mt.ceil)\n",
    "\n",
    "# Convertir columnas a enteros.\n",
    "df_users_plan_per_month['calls'] = df_users_plan_per_month['calls'].astype(int)\n",
    "df_users_plan_per_month['month'] = df_users_plan_per_month['month'].astype(int)\n",
    "df_users_plan_per_month['call_minutes'] = df_users_plan_per_month['call_minutes'].astype(int)\n",
    "df_users_plan_per_month['messages'] = df_users_plan_per_month['messages'].astype(int)\n",
    "\n",
    "# Verificar los cambios\n",
    "df_users_plan_per_month.sort_values('user_id',inplace=True)\n",
    "df_users_plan_per_month"
   ]
  },
  {
   "cell_type": "code",
   "execution_count": 34,
   "metadata": {},
   "outputs": [
    {
     "data": {
      "text/plain": [
       "user_id         0\n",
       "month           0\n",
       "calls           0\n",
       "call_minutes    0\n",
       "messages        0\n",
       "gb_used         0\n",
       "plan            0\n",
       "dtype: int64"
      ]
     },
     "execution_count": 34,
     "metadata": {},
     "output_type": "execute_result"
    }
   ],
   "source": [
    "# Verificar que no existan valores ausentes\n",
    "df_users_plan_per_month.isna().sum()"
   ]
  },
  {
   "cell_type": "code",
   "execution_count": 35,
   "metadata": {},
   "outputs": [],
   "source": [
    "def monthly_revenue_per_user(user, df_plans):\n",
    "    # Función par calcular la tarifa final de acuerdo al dataframe de tarifas\n",
    "    # y el nuevo dataframe que contiene los datos de cada usuario\n",
    "    \n",
    "    # Extraer el plan de cada usuario\n",
    "    plan = user['plan']\n",
    "    \n",
    "    # Calcular la tarifa para las llamdas de acuerdo al datframe df_plans \n",
    "    \n",
    "    # Inicializar la varbiale que guardara el precio por llamadas\n",
    "    # Se inicializa como lista porque los calculos de total_price_calls salen como lista\n",
    "    total_price_calls = 0\n",
    "    # Se obtiene la cantidad de minutos incluidos en el plan\n",
    "    minutes_included = df_plans[df_plans['plan_name']==plan]['minutes_included']\n",
    "    # Se obtiene el precio por minuto excedido\n",
    "    usd_per_minute = df_plans[df_plans['plan_name']==plan]['usd_per_minute']\n",
    "    # Calcular solo si se exceden los minutos del plan \n",
    "    if minutes_included.values[0] < user['call_minutes']:\n",
    "        # Calcular el precio total por llamadas: (minutos usados - minutos incluidos en el plan) * dolar por minuto excedido\n",
    "        total_price_calls = (user['call_minutes'] - minutes_included.values[0]) * usd_per_minute.values[0]\n",
    " \n",
    "    # Calcular la tarifa para los mensajes de acuerdo al datframe df_plans \n",
    "    \n",
    "    # Inicializar la variable que guardara el precio por mensajes\n",
    "    total_price_messages = 0\n",
    "    # Se obtiene la cantidad de mensajes incluidos en el plan\n",
    "    messages_included = df_plans[df_plans['plan_name']==plan]['messages_included']\n",
    "    # Se obtiene el precio por mensaje excedido\n",
    "    usd_per_message = df_plans[df_plans['plan_name']==plan]['usd_per_message']\n",
    "    # Calcular solo si se exceden los mensajes del plan \n",
    "    if messages_included.values[0] < user['messages']:\n",
    "        # Calcular el precio total por los mensajes: \n",
    "        # (mensajes realizados - mensajes incluidos en el plan) * dolar por mensaje excedido\n",
    "        total_price_messages = (user['messages'] - messages_included.values[0]) * usd_per_message.values[0]\n",
    "\n",
    "    # Calcular la tarifa para el internet\n",
    "    \n",
    "    # Inicializar la variable que guarda el precio por gb \n",
    "    total_price_internet = 0\n",
    "    # Se obtiene la cantidad de gb incluidos en el plan\n",
    "    gb_included = df_plans[df_plans['plan_name']==plan]['gb_per_month_included']\n",
    "    # Se obtiene el precio por gb excedido\n",
    "    usd_per_gb = df_plans[df_plans['plan_name']==plan]['usd_per_gb']\n",
    "    # Calcular solo si se exceden los mb incluidos del plan \n",
    "    if gb_included.values[0] < user['gb_used']:\n",
    "        # Calcular el precio total por los gb excedidos: \n",
    "        # los gb se redondean hcia arriba\n",
    "        # (gb usados - gb incluidos en el plan) <para convertir a gb> * dolar por gb excedido\n",
    "        total_price_internet = (user['gb_used'] - gb_included.values[0]) * usd_per_gb.values[0]\n",
    "\n",
    "    # Extraer el precio del plan \n",
    "    plan_price = df_plans[df_plans['plan_name']==plan]['usd_monthly_pay'].values[0]\n",
    "    \n",
    "    # calcular el total (precio de llamadas + precio de mensajes + precio de internet + precio del plan)\n",
    "    total_price = total_price_calls + total_price_messages + total_price_internet + plan_price\n",
    "\n",
    "    return total_price"
   ]
  },
  {
   "cell_type": "code",
   "execution_count": 36,
   "metadata": {
    "scrolled": true
   },
   "outputs": [
    {
     "data": {
      "text/html": [
       "<div>\n",
       "<style scoped>\n",
       "    .dataframe tbody tr th:only-of-type {\n",
       "        vertical-align: middle;\n",
       "    }\n",
       "\n",
       "    .dataframe tbody tr th {\n",
       "        vertical-align: top;\n",
       "    }\n",
       "\n",
       "    .dataframe thead th {\n",
       "        text-align: right;\n",
       "    }\n",
       "</style>\n",
       "<table border=\"1\" class=\"dataframe\">\n",
       "  <thead>\n",
       "    <tr style=\"text-align: right;\">\n",
       "      <th></th>\n",
       "      <th>user_id</th>\n",
       "      <th>month</th>\n",
       "      <th>calls</th>\n",
       "      <th>call_minutes</th>\n",
       "      <th>messages</th>\n",
       "      <th>gb_used</th>\n",
       "      <th>plan</th>\n",
       "      <th>total_price</th>\n",
       "    </tr>\n",
       "  </thead>\n",
       "  <tbody>\n",
       "    <tr>\n",
       "      <th>0</th>\n",
       "      <td>1000</td>\n",
       "      <td>12</td>\n",
       "      <td>16</td>\n",
       "      <td>124</td>\n",
       "      <td>11</td>\n",
       "      <td>2</td>\n",
       "      <td>ultimate</td>\n",
       "      <td>70.00</td>\n",
       "    </tr>\n",
       "    <tr>\n",
       "      <th>1</th>\n",
       "      <td>1001</td>\n",
       "      <td>8</td>\n",
       "      <td>27</td>\n",
       "      <td>182</td>\n",
       "      <td>30</td>\n",
       "      <td>7</td>\n",
       "      <td>surf</td>\n",
       "      <td>20.00</td>\n",
       "    </tr>\n",
       "    <tr>\n",
       "      <th>2</th>\n",
       "      <td>1001</td>\n",
       "      <td>9</td>\n",
       "      <td>49</td>\n",
       "      <td>315</td>\n",
       "      <td>44</td>\n",
       "      <td>14</td>\n",
       "      <td>surf</td>\n",
       "      <td>20.00</td>\n",
       "    </tr>\n",
       "    <tr>\n",
       "      <th>3</th>\n",
       "      <td>1001</td>\n",
       "      <td>10</td>\n",
       "      <td>65</td>\n",
       "      <td>393</td>\n",
       "      <td>53</td>\n",
       "      <td>22</td>\n",
       "      <td>surf</td>\n",
       "      <td>90.09</td>\n",
       "    </tr>\n",
       "    <tr>\n",
       "      <th>4</th>\n",
       "      <td>1001</td>\n",
       "      <td>11</td>\n",
       "      <td>64</td>\n",
       "      <td>426</td>\n",
       "      <td>36</td>\n",
       "      <td>19</td>\n",
       "      <td>surf</td>\n",
       "      <td>60.00</td>\n",
       "    </tr>\n",
       "  </tbody>\n",
       "</table>\n",
       "</div>"
      ],
      "text/plain": [
       "   user_id  month  calls  call_minutes  messages  gb_used      plan  \\\n",
       "0     1000     12     16           124        11        2  ultimate   \n",
       "1     1001      8     27           182        30        7      surf   \n",
       "2     1001      9     49           315        44       14      surf   \n",
       "3     1001     10     65           393        53       22      surf   \n",
       "4     1001     11     64           426        36       19      surf   \n",
       "\n",
       "   total_price  \n",
       "0        70.00  \n",
       "1        20.00  \n",
       "2        20.00  \n",
       "3        90.09  \n",
       "4        60.00  "
      ]
     },
     "execution_count": 36,
     "metadata": {},
     "output_type": "execute_result"
    }
   ],
   "source": [
    "# Calcular el total para cada usuario y añadirlo a una nueva columna \n",
    "df_users_plan_per_month['total_price'] = df_users_plan_per_month.apply(lambda user: monthly_revenue_per_user(user,df_plans=df_plans), axis=1)\n",
    "\n",
    "# Verificar el dataframe\n",
    "df_users_plan_per_month.head()"
   ]
  },
  {
   "cell_type": "markdown",
   "metadata": {
    "id": "-jtyHzJb0q1I"
   },
   "source": [
    "## Estudia el comportamiento de usuario"
   ]
  },
  {
   "cell_type": "markdown",
   "metadata": {
    "id": "vtW4CJEe0q1J"
   },
   "source": [
    "### Llamadas"
   ]
  },
  {
   "cell_type": "code",
   "execution_count": 37,
   "metadata": {
    "id": "Jf5v5--k0q1J"
   },
   "outputs": [
    {
     "data": {
      "text/html": [
       "<div>\n",
       "<style scoped>\n",
       "    .dataframe tbody tr th:only-of-type {\n",
       "        vertical-align: middle;\n",
       "    }\n",
       "\n",
       "    .dataframe tbody tr th {\n",
       "        vertical-align: top;\n",
       "    }\n",
       "\n",
       "    .dataframe thead th {\n",
       "        text-align: right;\n",
       "    }\n",
       "</style>\n",
       "<table border=\"1\" class=\"dataframe\">\n",
       "  <thead>\n",
       "    <tr style=\"text-align: right;\">\n",
       "      <th>plan</th>\n",
       "      <th>surf</th>\n",
       "      <th>ultimate</th>\n",
       "    </tr>\n",
       "  </thead>\n",
       "  <tbody>\n",
       "    <tr>\n",
       "      <th>january</th>\n",
       "      <td>203.000000</td>\n",
       "      <td>193.500000</td>\n",
       "    </tr>\n",
       "    <tr>\n",
       "      <th>february</th>\n",
       "      <td>297.000000</td>\n",
       "      <td>403.142857</td>\n",
       "    </tr>\n",
       "    <tr>\n",
       "      <th>march</th>\n",
       "      <td>330.000000</td>\n",
       "      <td>304.250000</td>\n",
       "    </tr>\n",
       "    <tr>\n",
       "      <th>april</th>\n",
       "      <td>351.540000</td>\n",
       "      <td>336.857143</td>\n",
       "    </tr>\n",
       "    <tr>\n",
       "      <th>may</th>\n",
       "      <td>399.584416</td>\n",
       "      <td>406.241379</td>\n",
       "    </tr>\n",
       "  </tbody>\n",
       "</table>\n",
       "</div>"
      ],
      "text/plain": [
       "plan            surf    ultimate\n",
       "january   203.000000  193.500000\n",
       "february  297.000000  403.142857\n",
       "march     330.000000  304.250000\n",
       "april     351.540000  336.857143\n",
       "may       399.584416  406.241379"
      ]
     },
     "execution_count": 37,
     "metadata": {},
     "output_type": "execute_result"
    }
   ],
   "source": [
    "# Compara la duración promedio de llamadas por cada plan y por cada mes. Traza un gráfico de barras para visualizarla.\n",
    "\n",
    "# Agrupar por mes y plan. Como valores ser el promedio de minutos en llamada\n",
    "# Se  utiliza unstack para preparar los datos para el grafico de barras\n",
    "calls_groupby_month_plan = df_users_plan_per_month.groupby(['month','plan'])['call_minutes'].mean().unstack()\n",
    "\n",
    "# Renombrar los meses \n",
    "calls_groupby_month_plan.index = ['january', 'february', 'march', 'april', 'may', 'june', 'july', 'august', 'september', 'october', 'november', 'december']\n",
    "# Verificar el dataframe\n",
    "calls_groupby_month_plan.head()"
   ]
  },
  {
   "cell_type": "code",
   "execution_count": 38,
   "metadata": {},
   "outputs": [
    {
     "data": {
      "image/png": "[encoded data removed]",
      "text/plain": [
       "<Figure size 864x432 with 1 Axes>"
      ]
     },
     "metadata": {
      "needs_background": "light"
     },
     "output_type": "display_data"
    }
   ],
   "source": [
    "# Crear un grafico de barras par comparar los minutos en promedio para cada mas y para cada plan\n",
    "calls_groupby_month_plan.plot(kind='bar',\n",
    "                              xlabel='Month',\n",
    "                              ylabel='Minutes',\n",
    "                              title='Average calls for each plan and per month',\n",
    "                              figsize=(12,6),\n",
    "                              rot=20,\n",
    "                              grid=True\n",
    "                             )\n",
    "\n",
    "plt.show()"
   ]
  },
  {
   "cell_type": "code",
   "execution_count": 39,
   "metadata": {},
   "outputs": [
    {
     "data": {
      "image/png": "[encoded data removed]",
      "text/plain": [
       "<Figure size 864x432 with 1 Axes>"
      ]
     },
     "metadata": {
      "needs_background": "light"
     },
     "output_type": "display_data"
    }
   ],
   "source": [
    "# Compara el número de minutos mensuales que necesitan los usuarios de cada plan. Traza un histograma.\n",
    "\n",
    "# Filtrar los usuarios por plan para call_minutes\n",
    "surf_call_minutes = df_users_plan_per_month[df_users_plan_per_month['plan']=='surf']\n",
    "ultimate_call_minutes = df_users_plan_per_month[df_users_plan_per_month['plan']=='ultimate']\n",
    "\n",
    "# Dataframe para el histograma con el plan ultimate\n",
    "surf_call_minutes['call_minutes'].plot(kind='hist',alpha=0.8, bins=25) \n",
    "ultimate_call_minutes['call_minutes'].plot(kind='hist', bins=25, figsize=(12,6), color='skyblue', grid=True)\n",
    "\n",
    "# Agregar datos adicionales: titulo, nombre del eje x y y \n",
    "plt.title('Number of minutes each user needs per plan')\n",
    "plt.xlabel('User minutes per month')\n",
    "plt.ylabel('Frequency')\n",
    "plt.legend(['surf','ultimate'])\n",
    "\n",
    "plt.show()"
   ]
  },
  {
   "cell_type": "code",
   "execution_count": 40,
   "metadata": {},
   "outputs": [
    {
     "data": {
      "text/html": [
       "<div>\n",
       "<style scoped>\n",
       "    .dataframe tbody tr th:only-of-type {\n",
       "        vertical-align: middle;\n",
       "    }\n",
       "\n",
       "    .dataframe tbody tr th {\n",
       "        vertical-align: top;\n",
       "    }\n",
       "\n",
       "    .dataframe thead th {\n",
       "        text-align: right;\n",
       "    }\n",
       "</style>\n",
       "<table border=\"1\" class=\"dataframe\">\n",
       "  <thead>\n",
       "    <tr style=\"text-align: right;\">\n",
       "      <th>plan</th>\n",
       "      <th>surf</th>\n",
       "      <th>ultimate</th>\n",
       "    </tr>\n",
       "    <tr>\n",
       "      <th>month</th>\n",
       "      <th></th>\n",
       "      <th></th>\n",
       "    </tr>\n",
       "  </thead>\n",
       "  <tbody>\n",
       "    <tr>\n",
       "      <th>1</th>\n",
       "      <td>406</td>\n",
       "      <td>774</td>\n",
       "    </tr>\n",
       "    <tr>\n",
       "      <th>2</th>\n",
       "      <td>2673</td>\n",
       "      <td>2822</td>\n",
       "    </tr>\n",
       "    <tr>\n",
       "      <th>3</th>\n",
       "      <td>7590</td>\n",
       "      <td>3651</td>\n",
       "    </tr>\n",
       "    <tr>\n",
       "      <th>4</th>\n",
       "      <td>17577</td>\n",
       "      <td>7074</td>\n",
       "    </tr>\n",
       "    <tr>\n",
       "      <th>5</th>\n",
       "      <td>30768</td>\n",
       "      <td>11781</td>\n",
       "    </tr>\n",
       "    <tr>\n",
       "      <th>6</th>\n",
       "      <td>41836</td>\n",
       "      <td>17435</td>\n",
       "    </tr>\n",
       "    <tr>\n",
       "      <th>7</th>\n",
       "      <td>54448</td>\n",
       "      <td>25197</td>\n",
       "    </tr>\n",
       "    <tr>\n",
       "      <th>8</th>\n",
       "      <td>66438</td>\n",
       "      <td>29922</td>\n",
       "    </tr>\n",
       "    <tr>\n",
       "      <th>9</th>\n",
       "      <td>80360</td>\n",
       "      <td>37626</td>\n",
       "    </tr>\n",
       "    <tr>\n",
       "      <th>10</th>\n",
       "      <td>101846</td>\n",
       "      <td>47778</td>\n",
       "    </tr>\n",
       "    <tr>\n",
       "      <th>11</th>\n",
       "      <td>119801</td>\n",
       "      <td>56540</td>\n",
       "    </tr>\n",
       "    <tr>\n",
       "      <th>12</th>\n",
       "      <td>150680</td>\n",
       "      <td>69324</td>\n",
       "    </tr>\n",
       "  </tbody>\n",
       "</table>\n",
       "</div>"
      ],
      "text/plain": [
       "plan     surf  ultimate\n",
       "month                  \n",
       "1         406       774\n",
       "2        2673      2822\n",
       "3        7590      3651\n",
       "4       17577      7074\n",
       "5       30768     11781\n",
       "6       41836     17435\n",
       "7       54448     25197\n",
       "8       66438     29922\n",
       "9       80360     37626\n",
       "10     101846     47778\n",
       "11     119801     56540\n",
       "12     150680     69324"
      ]
     },
     "execution_count": 40,
     "metadata": {},
     "output_type": "execute_result"
    }
   ],
   "source": [
    "# Total de minutos en llamada por mes\n",
    "df_users_plan_per_month_sum = df_users_plan_per_month.groupby(['month','plan'])['call_minutes'].sum().unstack()\n",
    "df_users_plan_per_month_sum"
   ]
  },
  {
   "cell_type": "code",
   "execution_count": 41,
   "metadata": {
    "id": "oSndbAnt0q1K"
   },
   "outputs": [
    {
     "name": "stdout",
     "output_type": "stream",
     "text": [
      "Para el plan surf: media = 56201.916666666664, varianza = 2202716344.5763893\n",
      "Para el plan ultimate: media = 25827.0, varianza = 478462892.0\n"
     ]
    }
   ],
   "source": [
    "# Calcula la media y la varianza de la duración mensual de llamadas.\n",
    "\n",
    "# Filtrar por plan\n",
    "call_minutes_per_month_surf = df_users_plan_per_month_sum['surf']\n",
    "call_minutes_per_month_ultimate = df_users_plan_per_month_sum['ultimate']\n",
    "\n",
    "# Calcular la media para cada plan\n",
    "mu_surf = df_users_plan_per_month_sum['surf'].mean()\n",
    "mu_ultimate = df_users_plan_per_month_sum['ultimate'].mean()\n",
    "\n",
    "# calcular la varianza para cada plan\n",
    "var_surf = np.var(df_users_plan_per_month_sum['surf'])\n",
    "var_ultimate = np.var(df_users_plan_per_month_sum['ultimate'])\n",
    "\n",
    "print(f'Para el plan surf: media = {mu_surf}, varianza = {var_surf}')\n",
    "print(f'Para el plan ultimate: media = {mu_ultimate}, varianza = {var_ultimate}')"
   ]
  },
  {
   "cell_type": "code",
   "execution_count": 42,
   "metadata": {
    "id": "nZzoRUKc0q1K"
   },
   "outputs": [
    {
     "data": {
      "image/png": "[encoded data removed]",
      "text/plain": [
       "<Figure size 864x432 with 1 Axes>"
      ]
     },
     "metadata": {
      "needs_background": "light"
     },
     "output_type": "display_data"
    }
   ],
   "source": [
    "# Traza un diagrama de caja para visualizar la distribución de la duración mensual de llamadas\n",
    "\n",
    "df_users_plan_per_month_sum.boxplot(figsize=(12,6))\n",
    "plt.title('Monthly call distribution by plan')\n",
    "plt.xlabel('Plan')\n",
    "plt.ylabel('Minutes')\n",
    "plt.show()"
   ]
  },
  {
   "cell_type": "markdown",
   "metadata": {
    "id": "r627zBO50q1K"
   },
   "source": [
    "**Notas**  \n",
    "El comportamiento claramente varia de acuerdo al plan.   \n",
    "- Los usuarios con la tarifa ultimate suelen usar menos minutos en total hasta febrero, a partir de marzo los usuarios surf consumen mas minutos. Esto sucede porque el número de usuarios con la tarifa surf es aprox. 2 veces mayor al de la tarifa ultimate.\n",
    "- Si analizamos el promedio de minutos por mes y por plan.  \n",
    "    1. Surf es ligeramente mayor en los meses: enero, marzo, abril, junio, julio y diciembre\n",
    "    2. Ulimate es superior (25% mayor) que surf en febrero y ligeramente mayor en los demas meses.\n",
    "- La distribucion de ambas tarifas tienen un comportmiento sesgado hacia la derecha (el bigote superior del boxplot es mas largo que el inferior). \n",
    "- La media del plan surf en minutos de llamadas ronda los 56 000, mientras del plan ultimate ronda los 25000. \n",
    "- Parece que la tarifa surf tiene mas dispersión de valores, al tener los bigotes mas largos. \n",
    "- No se observan valores atipicos. \n",
    "- Conforme pasan los meses va aumentndo la demanda. Para diciembre la diferencia de demanda es casi del doble, siendo la tarifa surf la que mas consume (por la existencia de mas usuarios de la tarifa surf)."
   ]
  },
  {
   "cell_type": "markdown",
   "metadata": {
    "id": "8idKy8Wh0q1L"
   },
   "source": [
    "### Mensajes"
   ]
  },
  {
   "cell_type": "code",
   "execution_count": 43,
   "metadata": {
    "id": "NXLxiTit0q1L",
    "scrolled": true
   },
   "outputs": [
    {
     "data": {
      "text/html": [
       "<div>\n",
       "<style scoped>\n",
       "    .dataframe tbody tr th:only-of-type {\n",
       "        vertical-align: middle;\n",
       "    }\n",
       "\n",
       "    .dataframe tbody tr th {\n",
       "        vertical-align: top;\n",
       "    }\n",
       "\n",
       "    .dataframe thead th {\n",
       "        text-align: right;\n",
       "    }\n",
       "</style>\n",
       "<table border=\"1\" class=\"dataframe\">\n",
       "  <thead>\n",
       "    <tr style=\"text-align: right;\">\n",
       "      <th>plan</th>\n",
       "      <th>surf</th>\n",
       "      <th>ultimate</th>\n",
       "    </tr>\n",
       "  </thead>\n",
       "  <tbody>\n",
       "    <tr>\n",
       "      <th>january</th>\n",
       "      <td>21</td>\n",
       "      <td>62</td>\n",
       "    </tr>\n",
       "    <tr>\n",
       "      <th>february</th>\n",
       "      <td>108</td>\n",
       "      <td>151</td>\n",
       "    </tr>\n",
       "    <tr>\n",
       "      <th>march</th>\n",
       "      <td>351</td>\n",
       "      <td>243</td>\n",
       "    </tr>\n",
       "    <tr>\n",
       "      <th>april</th>\n",
       "      <td>870</td>\n",
       "      <td>463</td>\n",
       "    </tr>\n",
       "    <tr>\n",
       "      <th>may</th>\n",
       "      <td>1849</td>\n",
       "      <td>931</td>\n",
       "    </tr>\n",
       "    <tr>\n",
       "      <th>june</th>\n",
       "      <td>2454</td>\n",
       "      <td>1379</td>\n",
       "    </tr>\n",
       "    <tr>\n",
       "      <th>july</th>\n",
       "      <td>3271</td>\n",
       "      <td>1937</td>\n",
       "    </tr>\n",
       "    <tr>\n",
       "      <th>august</th>\n",
       "      <td>4662</td>\n",
       "      <td>2732</td>\n",
       "    </tr>\n",
       "    <tr>\n",
       "      <th>september</th>\n",
       "      <td>5968</td>\n",
       "      <td>3259</td>\n",
       "    </tr>\n",
       "    <tr>\n",
       "      <th>october</th>\n",
       "      <td>8020</td>\n",
       "      <td>4181</td>\n",
       "    </tr>\n",
       "    <tr>\n",
       "      <th>november</th>\n",
       "      <td>9165</td>\n",
       "      <td>4903</td>\n",
       "    </tr>\n",
       "    <tr>\n",
       "      <th>december</th>\n",
       "      <td>12275</td>\n",
       "      <td>6796</td>\n",
       "    </tr>\n",
       "  </tbody>\n",
       "</table>\n",
       "</div>"
      ],
      "text/plain": [
       "plan        surf  ultimate\n",
       "january       21        62\n",
       "february     108       151\n",
       "march        351       243\n",
       "april        870       463\n",
       "may         1849       931\n",
       "june        2454      1379\n",
       "july        3271      1937\n",
       "august      4662      2732\n",
       "september   5968      3259\n",
       "october     8020      4181\n",
       "november    9165      4903\n",
       "december   12275      6796"
      ]
     },
     "execution_count": 43,
     "metadata": {},
     "output_type": "execute_result"
    }
   ],
   "source": [
    "# Comprara el número de mensajes que tienden a enviar cada mes los usuarios de cada plan\n",
    "\n",
    "# Agrupar los mensajes por mes y plan\n",
    "df_messages_groupby_month_plan = df_users_plan_per_month.groupby(['month','plan'])['messages'].sum().unstack()\n",
    "# Renombrar los indices para el mes correspondiente al numero\n",
    "df_messages_groupby_month_plan.index = ['january', 'february', 'march', 'april', 'may', 'june', 'july', 'august', 'september', 'october', 'november', 'december']\n",
    "#df_messages_groupby_month_plan = df_messages_groupby_month_plan.unstack()\n",
    "df_messages_groupby_month_plan"
   ]
  },
  {
   "cell_type": "code",
   "execution_count": 44,
   "metadata": {},
   "outputs": [
    {
     "data": {
      "image/png": "[encoded data removed]",
      "text/plain": [
       "<Figure size 864x432 with 1 Axes>"
      ]
     },
     "metadata": {
      "needs_background": "light"
     },
     "output_type": "display_data"
    }
   ],
   "source": [
    "# Grafico de barras para comprarar el numero de mensajes por mes y por plan\n",
    "df_messages_groupby_month_plan.plot(kind='bar',\n",
    "                                   rot=40,\n",
    "                                   grid=True,\n",
    "                                   figsize=(12,6))\n",
    "plt.title('Messages that users tend to send each month by plan')\n",
    "plt.xlabel('Month')\n",
    "plt.ylabel('Frequency')\n",
    "plt.show()"
   ]
  },
  {
   "cell_type": "code",
   "execution_count": 45,
   "metadata": {
    "id": "dtFwCGAp0q1M"
   },
   "outputs": [
    {
     "data": {
      "text/html": [
       "<div>\n",
       "<style scoped>\n",
       "    .dataframe tbody tr th:only-of-type {\n",
       "        vertical-align: middle;\n",
       "    }\n",
       "\n",
       "    .dataframe tbody tr th {\n",
       "        vertical-align: top;\n",
       "    }\n",
       "\n",
       "    .dataframe thead th {\n",
       "        text-align: right;\n",
       "    }\n",
       "</style>\n",
       "<table border=\"1\" class=\"dataframe\">\n",
       "  <thead>\n",
       "    <tr style=\"text-align: right;\">\n",
       "      <th>plan</th>\n",
       "      <th>surf</th>\n",
       "      <th>ultimate</th>\n",
       "    </tr>\n",
       "  </thead>\n",
       "  <tbody>\n",
       "    <tr>\n",
       "      <th>january</th>\n",
       "      <td>10.500000</td>\n",
       "      <td>15.500000</td>\n",
       "    </tr>\n",
       "    <tr>\n",
       "      <th>february</th>\n",
       "      <td>12.000000</td>\n",
       "      <td>21.571429</td>\n",
       "    </tr>\n",
       "    <tr>\n",
       "      <th>march</th>\n",
       "      <td>15.260870</td>\n",
       "      <td>20.250000</td>\n",
       "    </tr>\n",
       "    <tr>\n",
       "      <th>april</th>\n",
       "      <td>17.400000</td>\n",
       "      <td>22.047619</td>\n",
       "    </tr>\n",
       "    <tr>\n",
       "      <th>may</th>\n",
       "      <td>24.012987</td>\n",
       "      <td>32.103448</td>\n",
       "    </tr>\n",
       "    <tr>\n",
       "      <th>june</th>\n",
       "      <td>25.298969</td>\n",
       "      <td>29.340426</td>\n",
       "    </tr>\n",
       "    <tr>\n",
       "      <th>july</th>\n",
       "      <td>27.033058</td>\n",
       "      <td>32.830508</td>\n",
       "    </tr>\n",
       "    <tr>\n",
       "      <th>august</th>\n",
       "      <td>28.777778</td>\n",
       "      <td>38.478873</td>\n",
       "    </tr>\n",
       "    <tr>\n",
       "      <th>september</th>\n",
       "      <td>30.762887</td>\n",
       "      <td>37.895349</td>\n",
       "    </tr>\n",
       "    <tr>\n",
       "      <th>october</th>\n",
       "      <td>33.839662</td>\n",
       "      <td>39.443396</td>\n",
       "    </tr>\n",
       "    <tr>\n",
       "      <th>november</th>\n",
       "      <td>32.385159</td>\n",
       "      <td>38.606299</td>\n",
       "    </tr>\n",
       "    <tr>\n",
       "      <th>december</th>\n",
       "      <td>38.600629</td>\n",
       "      <td>45.006623</td>\n",
       "    </tr>\n",
       "  </tbody>\n",
       "</table>\n",
       "</div>"
      ],
      "text/plain": [
       "plan            surf   ultimate\n",
       "january    10.500000  15.500000\n",
       "february   12.000000  21.571429\n",
       "march      15.260870  20.250000\n",
       "april      17.400000  22.047619\n",
       "may        24.012987  32.103448\n",
       "june       25.298969  29.340426\n",
       "july       27.033058  32.830508\n",
       "august     28.777778  38.478873\n",
       "september  30.762887  37.895349\n",
       "october    33.839662  39.443396\n",
       "november   32.385159  38.606299\n",
       "december   38.600629  45.006623"
      ]
     },
     "execution_count": 45,
     "metadata": {},
     "output_type": "execute_result"
    }
   ],
   "source": [
    "# Comparar el promedio de llamadas por usuario y por mes\n",
    "# Agrupar los mensajes por mes y plan\n",
    "df_messages_groupby_month_plan_mean = df_users_plan_per_month.groupby(['month','plan'])['messages'].mean().unstack()\n",
    "# Renombrar los indices para el mes correspondiente al numero\n",
    "df_messages_groupby_month_plan_mean.index = ['january', 'february', 'march', 'april', 'may', 'june', 'july', 'august', 'september', 'october', 'november', 'december']\n",
    "#df_messages_groupby_month_plan = df_messages_groupby_month_plan.unstack()\n",
    "df_messages_groupby_month_plan_mean"
   ]
  },
  {
   "cell_type": "code",
   "execution_count": 46,
   "metadata": {},
   "outputs": [
    {
     "data": {
      "image/png": "[encoded data removed]",
      "text/plain": [
       "<Figure size 864x432 with 1 Axes>"
      ]
     },
     "metadata": {
      "needs_background": "light"
     },
     "output_type": "display_data"
    }
   ],
   "source": [
    "# Grafico de barras para comprarar el promedio de mensajes por mes y por plan\n",
    "df_messages_groupby_month_plan_mean.plot(kind='bar',\n",
    "                                   rot=40,\n",
    "                                   grid=True,\n",
    "                                   figsize=(12,6))\n",
    "plt.title('Average messages that users tend to send each month by plan')\n",
    "plt.xlabel('Month')\n",
    "plt.ylabel('Frequency')\n",
    "plt.show()"
   ]
  },
  {
   "cell_type": "code",
   "execution_count": 47,
   "metadata": {
    "scrolled": false
   },
   "outputs": [
    {
     "data": {
      "image/png": "[encoded data removed]",
      "text/plain": [
       "<Figure size 864x432 with 1 Axes>"
      ]
     },
     "metadata": {
      "needs_background": "light"
     },
     "output_type": "display_data"
    }
   ],
   "source": [
    "# Compara el número de mensajes mensuales que necesitan los usuarios de cada plan. Traza un histograma.\n",
    "\n",
    "# Filtrar los usuarios por plan para messages\n",
    "surf_messages = df_users_plan_per_month[df_users_plan_per_month['plan']=='surf']\n",
    "ultimate_messages = df_users_plan_per_month[df_users_plan_per_month['plan']=='ultimate']\n",
    "\n",
    "# Dataframe para el histograma con el plan ultimate\n",
    "surf_messages['messages'].plot(kind='hist',alpha=0.8, bins=50) \n",
    "ultimate_messages['messages'].plot(kind='hist', bins=50, figsize=(12,6), color='skyblue', grid=True)\n",
    "\n",
    "# Agregar datos adicionales: titulo, nombre del eje x y y \n",
    "plt.title('Number of messages each user needs per plan')\n",
    "plt.xlabel('User messages per month')\n",
    "plt.ylabel('Frequency')\n",
    "plt.legend(['surf','ultimate'])\n",
    "\n",
    "plt.show()"
   ]
  },
  {
   "cell_type": "code",
   "execution_count": 48,
   "metadata": {},
   "outputs": [
    {
     "name": "stdout",
     "output_type": "stream",
     "text": [
      "Para el plan surf: media = 4084.5, varianza = 14764949.916666666\n",
      "Para el plan ultimate: media = 2253.0833333333335, varianza = 4307875.909722221\n"
     ]
    }
   ],
   "source": [
    "# Calcula la media y la varianza de la duración\n",
    "\n",
    "# Calcular la media para cada plan\n",
    "mu_surf_messages = df_messages_groupby_month_plan['surf'].mean()\n",
    "mu_ultimate_messages = df_messages_groupby_month_plan['ultimate'].mean()\n",
    "\n",
    "# calcular la varianza para cada plan\n",
    "var_surf_messages = np.var(df_messages_groupby_month_plan['surf'])\n",
    "var_ultimate_messages = np.var(df_messages_groupby_month_plan['ultimate'])\n",
    "\n",
    "print(f'Para el plan surf: media = {mu_surf_messages}, varianza = {var_surf_messages}')\n",
    "print(f'Para el plan ultimate: media = {mu_ultimate_messages}, varianza = {var_ultimate_messages}')"
   ]
  },
  {
   "cell_type": "code",
   "execution_count": 49,
   "metadata": {},
   "outputs": [
    {
     "data": {
      "text/html": [
       "<div>\n",
       "<style scoped>\n",
       "    .dataframe tbody tr th:only-of-type {\n",
       "        vertical-align: middle;\n",
       "    }\n",
       "\n",
       "    .dataframe tbody tr th {\n",
       "        vertical-align: top;\n",
       "    }\n",
       "\n",
       "    .dataframe thead th {\n",
       "        text-align: right;\n",
       "    }\n",
       "</style>\n",
       "<table border=\"1\" class=\"dataframe\">\n",
       "  <thead>\n",
       "    <tr style=\"text-align: right;\">\n",
       "      <th>plan</th>\n",
       "      <th>surf</th>\n",
       "      <th>ultimate</th>\n",
       "    </tr>\n",
       "    <tr>\n",
       "      <th>month</th>\n",
       "      <th></th>\n",
       "      <th></th>\n",
       "    </tr>\n",
       "  </thead>\n",
       "  <tbody>\n",
       "    <tr>\n",
       "      <th>1</th>\n",
       "      <td>21</td>\n",
       "      <td>62</td>\n",
       "    </tr>\n",
       "    <tr>\n",
       "      <th>2</th>\n",
       "      <td>108</td>\n",
       "      <td>151</td>\n",
       "    </tr>\n",
       "    <tr>\n",
       "      <th>3</th>\n",
       "      <td>351</td>\n",
       "      <td>243</td>\n",
       "    </tr>\n",
       "    <tr>\n",
       "      <th>4</th>\n",
       "      <td>870</td>\n",
       "      <td>463</td>\n",
       "    </tr>\n",
       "    <tr>\n",
       "      <th>5</th>\n",
       "      <td>1849</td>\n",
       "      <td>931</td>\n",
       "    </tr>\n",
       "    <tr>\n",
       "      <th>6</th>\n",
       "      <td>2454</td>\n",
       "      <td>1379</td>\n",
       "    </tr>\n",
       "    <tr>\n",
       "      <th>7</th>\n",
       "      <td>3271</td>\n",
       "      <td>1937</td>\n",
       "    </tr>\n",
       "    <tr>\n",
       "      <th>8</th>\n",
       "      <td>4662</td>\n",
       "      <td>2732</td>\n",
       "    </tr>\n",
       "    <tr>\n",
       "      <th>9</th>\n",
       "      <td>5968</td>\n",
       "      <td>3259</td>\n",
       "    </tr>\n",
       "    <tr>\n",
       "      <th>10</th>\n",
       "      <td>8020</td>\n",
       "      <td>4181</td>\n",
       "    </tr>\n",
       "    <tr>\n",
       "      <th>11</th>\n",
       "      <td>9165</td>\n",
       "      <td>4903</td>\n",
       "    </tr>\n",
       "    <tr>\n",
       "      <th>12</th>\n",
       "      <td>12275</td>\n",
       "      <td>6796</td>\n",
       "    </tr>\n",
       "  </tbody>\n",
       "</table>\n",
       "</div>"
      ],
      "text/plain": [
       "plan    surf  ultimate\n",
       "month                 \n",
       "1         21        62\n",
       "2        108       151\n",
       "3        351       243\n",
       "4        870       463\n",
       "5       1849       931\n",
       "6       2454      1379\n",
       "7       3271      1937\n",
       "8       4662      2732\n",
       "9       5968      3259\n",
       "10      8020      4181\n",
       "11      9165      4903\n",
       "12     12275      6796"
      ]
     },
     "execution_count": 49,
     "metadata": {},
     "output_type": "execute_result"
    }
   ],
   "source": [
    "# Preparar el dataframe para el boxplot\n",
    "df_messages_boxplot_groupby_plan = df_users_plan_per_month.groupby(['month','plan'])['messages'].sum().unstack()\n",
    "df_messages_boxplot_groupby_plan"
   ]
  },
  {
   "cell_type": "code",
   "execution_count": 50,
   "metadata": {},
   "outputs": [
    {
     "data": {
      "image/png": "[encoded data removed]",
      "text/plain": [
       "<Figure size 864x432 with 1 Axes>"
      ]
     },
     "metadata": {
      "needs_background": "light"
     },
     "output_type": "display_data"
    }
   ],
   "source": [
    "# Traza un diagrama de caja para visualizar la distribución de la duración mensual de llamadas\n",
    "\n",
    "df_messages_boxplot_groupby_plan.boxplot(figsize=(12,6))\n",
    "plt.title('Monthly messages distribution by plan')\n",
    "plt.xlabel('Plan')\n",
    "plt.ylabel('Messages')\n",
    "plt.show()"
   ]
  },
  {
   "cell_type": "markdown",
   "metadata": {
    "id": "390SSL480q1M"
   },
   "source": [
    "**Notas**  \n",
    "El comportamiento varia de acuerdo al plan. \n",
    "- Ambos cojuntos de datos para las dos tarifas, tienen datos sesgados hacia la derecha.\n",
    "- La media de ultimate esta en 2285 mensajes y la de surf en 4051 mensajes.\n",
    "- Los usuarios con la tarifa ultimate suelen usar menos minutos en total hasta marzo, a partir de abril los usuarios surf realizan mensajes (solo porque hay 2 veces mas usuarios de la tarifa surf que la de ultimate).\n",
    "- Al analizar el promedio de mensajes por tarifa se encontro que los usuarios con la tarifa surf, realizan mas mensajes en promedio al mes para todos los meses, desde un 15% a un 80% mas grande en comparación a al promedio de surf. \n",
    "- La distribución de ambas tarifas tienen un comporatmiento sesgado hacia la derecha (el bigote superior del boxplot es mas largo que el inferior).\n",
    "- Parece que la tarifa surf tiene mas dispersión de valores, al tener los bigotes mas largos.\n",
    "- No se observan valores atipicos.\n",
    "- Cada mes aumenta la demanda de mensajes. En diciembre la demanda de mensajes de la tarifa surf es casi el doble de la tarifa ultimate."
   ]
  },
  {
   "cell_type": "markdown",
   "metadata": {
    "id": "42YSypXz0q1M"
   },
   "source": [
    "### Internet"
   ]
  },
  {
   "cell_type": "code",
   "execution_count": 51,
   "metadata": {
    "id": "lSuKPtjh0q1M"
   },
   "outputs": [
    {
     "data": {
      "text/html": [
       "<div>\n",
       "<style scoped>\n",
       "    .dataframe tbody tr th:only-of-type {\n",
       "        vertical-align: middle;\n",
       "    }\n",
       "\n",
       "    .dataframe tbody tr th {\n",
       "        vertical-align: top;\n",
       "    }\n",
       "\n",
       "    .dataframe thead th {\n",
       "        text-align: right;\n",
       "    }\n",
       "</style>\n",
       "<table border=\"1\" class=\"dataframe\">\n",
       "  <thead>\n",
       "    <tr style=\"text-align: right;\">\n",
       "      <th>plan</th>\n",
       "      <th>surf</th>\n",
       "      <th>ultimate</th>\n",
       "    </tr>\n",
       "  </thead>\n",
       "  <tbody>\n",
       "    <tr>\n",
       "      <th>january</th>\n",
       "      <td>10</td>\n",
       "      <td>29</td>\n",
       "    </tr>\n",
       "    <tr>\n",
       "      <th>february</th>\n",
       "      <td>110</td>\n",
       "      <td>121</td>\n",
       "    </tr>\n",
       "    <tr>\n",
       "      <th>march</th>\n",
       "      <td>312</td>\n",
       "      <td>221</td>\n",
       "    </tr>\n",
       "    <tr>\n",
       "      <th>april</th>\n",
       "      <td>611</td>\n",
       "      <td>343</td>\n",
       "    </tr>\n",
       "    <tr>\n",
       "      <th>may</th>\n",
       "      <td>1087</td>\n",
       "      <td>489</td>\n",
       "    </tr>\n",
       "    <tr>\n",
       "      <th>june</th>\n",
       "      <td>1502</td>\n",
       "      <td>725</td>\n",
       "    </tr>\n",
       "    <tr>\n",
       "      <th>july</th>\n",
       "      <td>2042</td>\n",
       "      <td>973</td>\n",
       "    </tr>\n",
       "    <tr>\n",
       "      <th>august</th>\n",
       "      <td>2735</td>\n",
       "      <td>1267</td>\n",
       "    </tr>\n",
       "    <tr>\n",
       "      <th>september</th>\n",
       "      <td>3238</td>\n",
       "      <td>1463</td>\n",
       "    </tr>\n",
       "    <tr>\n",
       "      <th>october</th>\n",
       "      <td>4126</td>\n",
       "      <td>1878</td>\n",
       "    </tr>\n",
       "    <tr>\n",
       "      <th>november</th>\n",
       "      <td>4650</td>\n",
       "      <td>2174</td>\n",
       "    </tr>\n",
       "    <tr>\n",
       "      <th>december</th>\n",
       "      <td>5800</td>\n",
       "      <td>2778</td>\n",
       "    </tr>\n",
       "  </tbody>\n",
       "</table>\n",
       "</div>"
      ],
      "text/plain": [
       "plan       surf  ultimate\n",
       "january      10        29\n",
       "february    110       121\n",
       "march       312       221\n",
       "april       611       343\n",
       "may        1087       489\n",
       "june       1502       725\n",
       "july       2042       973\n",
       "august     2735      1267\n",
       "september  3238      1463\n",
       "october    4126      1878\n",
       "november   4650      2174\n",
       "december   5800      2778"
      ]
     },
     "execution_count": 51,
     "metadata": {},
     "output_type": "execute_result"
    }
   ],
   "source": [
    "# Compara la cantidad de tráfico de Internet consumido por usuarios por plan\n",
    "\n",
    "# Agrupar los mb usados por mes y plan\n",
    "df_internet_groupby_month_plan = df_users_plan_per_month.groupby(['month','plan'])['gb_used'].sum().unstack()\n",
    "# Renombrar los indices para el mes correspondiente al numero\n",
    "df_internet_groupby_month_plan.index = ['january', 'february', 'march', 'april', 'may', 'june', 'july', 'august', 'september', 'october', 'november', 'december']\n",
    "# Verificar el dataframe\n",
    "df_internet_groupby_month_plan"
   ]
  },
  {
   "cell_type": "code",
   "execution_count": 52,
   "metadata": {
    "id": "wnh8jYXi0q1N"
   },
   "outputs": [
    {
     "data": {
      "image/png": "[encoded data removed]",
      "text/plain": [
       "<Figure size 864x432 with 1 Axes>"
      ]
     },
     "metadata": {
      "needs_background": "light"
     },
     "output_type": "display_data"
    }
   ],
   "source": [
    "# Grafico de barras para comprarar los mb usados por mes y por plan\n",
    "df_internet_groupby_month_plan.plot(kind='bar',\n",
    "                                   rot=40,\n",
    "                                   grid=True,\n",
    "                                   figsize=(12,6))\n",
    "plt.title('Gb that users tend to use each month by plan')\n",
    "plt.xlabel('Month')\n",
    "plt.ylabel('Frequency')\n",
    "plt.show()"
   ]
  },
  {
   "cell_type": "code",
   "execution_count": 53,
   "metadata": {
    "id": "5VlyJ9ry0q1N"
   },
   "outputs": [
    {
     "data": {
      "text/html": [
       "<div>\n",
       "<style scoped>\n",
       "    .dataframe tbody tr th:only-of-type {\n",
       "        vertical-align: middle;\n",
       "    }\n",
       "\n",
       "    .dataframe tbody tr th {\n",
       "        vertical-align: top;\n",
       "    }\n",
       "\n",
       "    .dataframe thead th {\n",
       "        text-align: right;\n",
       "    }\n",
       "</style>\n",
       "<table border=\"1\" class=\"dataframe\">\n",
       "  <thead>\n",
       "    <tr style=\"text-align: right;\">\n",
       "      <th>plan</th>\n",
       "      <th>surf</th>\n",
       "      <th>ultimate</th>\n",
       "    </tr>\n",
       "  </thead>\n",
       "  <tbody>\n",
       "    <tr>\n",
       "      <th>january</th>\n",
       "      <td>5.000000</td>\n",
       "      <td>7.250000</td>\n",
       "    </tr>\n",
       "    <tr>\n",
       "      <th>february</th>\n",
       "      <td>12.222222</td>\n",
       "      <td>17.285714</td>\n",
       "    </tr>\n",
       "    <tr>\n",
       "      <th>march</th>\n",
       "      <td>13.565217</td>\n",
       "      <td>18.416667</td>\n",
       "    </tr>\n",
       "    <tr>\n",
       "      <th>april</th>\n",
       "      <td>12.220000</td>\n",
       "      <td>16.333333</td>\n",
       "    </tr>\n",
       "    <tr>\n",
       "      <th>may</th>\n",
       "      <td>14.116883</td>\n",
       "      <td>16.862069</td>\n",
       "    </tr>\n",
       "    <tr>\n",
       "      <th>june</th>\n",
       "      <td>15.484536</td>\n",
       "      <td>15.425532</td>\n",
       "    </tr>\n",
       "    <tr>\n",
       "      <th>july</th>\n",
       "      <td>16.876033</td>\n",
       "      <td>16.491525</td>\n",
       "    </tr>\n",
       "    <tr>\n",
       "      <th>august</th>\n",
       "      <td>16.882716</td>\n",
       "      <td>17.845070</td>\n",
       "    </tr>\n",
       "    <tr>\n",
       "      <th>september</th>\n",
       "      <td>16.690722</td>\n",
       "      <td>17.011628</td>\n",
       "    </tr>\n",
       "    <tr>\n",
       "      <th>october</th>\n",
       "      <td>17.409283</td>\n",
       "      <td>17.716981</td>\n",
       "    </tr>\n",
       "    <tr>\n",
       "      <th>november</th>\n",
       "      <td>16.431095</td>\n",
       "      <td>17.118110</td>\n",
       "    </tr>\n",
       "    <tr>\n",
       "      <th>december</th>\n",
       "      <td>18.238994</td>\n",
       "      <td>18.397351</td>\n",
       "    </tr>\n",
       "  </tbody>\n",
       "</table>\n",
       "</div>"
      ],
      "text/plain": [
       "plan            surf   ultimate\n",
       "january     5.000000   7.250000\n",
       "february   12.222222  17.285714\n",
       "march      13.565217  18.416667\n",
       "april      12.220000  16.333333\n",
       "may        14.116883  16.862069\n",
       "june       15.484536  15.425532\n",
       "july       16.876033  16.491525\n",
       "august     16.882716  17.845070\n",
       "september  16.690722  17.011628\n",
       "october    17.409283  17.716981\n",
       "november   16.431095  17.118110\n",
       "december   18.238994  18.397351"
      ]
     },
     "execution_count": 53,
     "metadata": {},
     "output_type": "execute_result"
    }
   ],
   "source": [
    "# Comparar el promedio de mb usados por usuario y por mes\n",
    "# Agrupar los mb usados por mes y plan\n",
    "df_internet_groupby_month_plan_mean = df_users_plan_per_month.groupby(['month','plan'])['gb_used'].mean().unstack()\n",
    "# Renombrar los indices para el mes correspondiente al numero\n",
    "df_internet_groupby_month_plan_mean.index = ['january', 'february', 'march', 'april', 'may', 'june', 'july', 'august', 'september', 'october', 'november', 'december']\n",
    "# Verificar el dataframe\n",
    "df_internet_groupby_month_plan_mean"
   ]
  },
  {
   "cell_type": "code",
   "execution_count": 54,
   "metadata": {},
   "outputs": [
    {
     "data": {
      "image/png": "[encoded data removed]",
      "text/plain": [
       "<Figure size 864x432 with 1 Axes>"
      ]
     },
     "metadata": {
      "needs_background": "light"
     },
     "output_type": "display_data"
    }
   ],
   "source": [
    "# Grafico de barras para comprarar el promedio de gb por mes y por plan\n",
    "df_internet_groupby_month_plan_mean.plot(kind='bar',\n",
    "                                   rot=40,\n",
    "                                   grid=True,\n",
    "                                   figsize=(12,6))\n",
    "plt.title('Average gb that users tend to use each month by plan')\n",
    "plt.xlabel('Month')\n",
    "plt.ylabel('gb')\n",
    "plt.show()"
   ]
  },
  {
   "cell_type": "code",
   "execution_count": 55,
   "metadata": {
    "scrolled": true
   },
   "outputs": [
    {
     "data": {
      "image/png": "[encoded data removed]",
      "text/plain": [
       "<Figure size 864x432 with 1 Axes>"
      ]
     },
     "metadata": {
      "needs_background": "light"
     },
     "output_type": "display_data"
    }
   ],
   "source": [
    "# Compara los gb consumidos por mes que necesitan los usuarios de cada plan. Traza un histograma.\n",
    "\n",
    "# Filtrar los usuarios por plan para el trafico de internet\n",
    "surf_internet = df_users_plan_per_month[df_users_plan_per_month['plan']=='surf']\n",
    "ultimate_internet = df_users_plan_per_month[df_users_plan_per_month['plan']=='ultimate']\n",
    "\n",
    "# Dataframe para el histograma con el plan ultimate\n",
    "surf_internet['gb_used'].plot(kind='hist',alpha=0.8, bins=50) \n",
    "ultimate_internet['gb_used'].plot(kind='hist', bins=50, figsize=(12,6), color='skyblue', grid=True)\n",
    "\n",
    "# Agregar datos adicionales: titulo, nombre del eje x y y \n",
    "plt.title('Number of gb each user needs per plan')\n",
    "plt.xlabel('User gb per month')\n",
    "plt.ylabel('Frequency')\n",
    "plt.legend(['surf','ultimate'])\n",
    "\n",
    "plt.show()"
   ]
  },
  {
   "cell_type": "code",
   "execution_count": 56,
   "metadata": {},
   "outputs": [
    {
     "name": "stdout",
     "output_type": "stream",
     "text": [
      "Para el plan surf: media = 14.594808448923049, varianza = 12.067831312331379\n",
      "Para el plan ultimate: media = 16.346165106753276, varianza = 8.20141023700356\n"
     ]
    }
   ],
   "source": [
    "# Calcula la media y la varianza de la duración mensual del internet.\n",
    "\n",
    "# Calcular la media para cada plan\n",
    "mu_surf_internet = df_internet_groupby_month_plan_mean['surf'].mean()\n",
    "mu_ultimate_internet = df_internet_groupby_month_plan_mean['ultimate'].mean()\n",
    "\n",
    "# calcular la varianza para cada plan\n",
    "var_surf_internet = np.var(df_internet_groupby_month_plan_mean['surf'])\n",
    "var_ultimate_internet = np.var(df_internet_groupby_month_plan_mean['ultimate'])\n",
    "\n",
    "print(f'Para el plan surf: media = {mu_surf_internet}, varianza = {var_surf_internet}')\n",
    "print(f'Para el plan ultimate: media = {mu_ultimate_internet}, varianza = {var_ultimate_internet}')"
   ]
  },
  {
   "cell_type": "code",
   "execution_count": 57,
   "metadata": {
    "scrolled": true
   },
   "outputs": [
    {
     "data": {
      "text/html": [
       "<div>\n",
       "<style scoped>\n",
       "    .dataframe tbody tr th:only-of-type {\n",
       "        vertical-align: middle;\n",
       "    }\n",
       "\n",
       "    .dataframe tbody tr th {\n",
       "        vertical-align: top;\n",
       "    }\n",
       "\n",
       "    .dataframe thead th {\n",
       "        text-align: right;\n",
       "    }\n",
       "</style>\n",
       "<table border=\"1\" class=\"dataframe\">\n",
       "  <thead>\n",
       "    <tr style=\"text-align: right;\">\n",
       "      <th>plan</th>\n",
       "      <th>surf</th>\n",
       "      <th>ultimate</th>\n",
       "    </tr>\n",
       "    <tr>\n",
       "      <th>month</th>\n",
       "      <th></th>\n",
       "      <th></th>\n",
       "    </tr>\n",
       "  </thead>\n",
       "  <tbody>\n",
       "    <tr>\n",
       "      <th>1</th>\n",
       "      <td>10</td>\n",
       "      <td>29</td>\n",
       "    </tr>\n",
       "    <tr>\n",
       "      <th>2</th>\n",
       "      <td>110</td>\n",
       "      <td>121</td>\n",
       "    </tr>\n",
       "    <tr>\n",
       "      <th>3</th>\n",
       "      <td>312</td>\n",
       "      <td>221</td>\n",
       "    </tr>\n",
       "    <tr>\n",
       "      <th>4</th>\n",
       "      <td>611</td>\n",
       "      <td>343</td>\n",
       "    </tr>\n",
       "    <tr>\n",
       "      <th>5</th>\n",
       "      <td>1087</td>\n",
       "      <td>489</td>\n",
       "    </tr>\n",
       "    <tr>\n",
       "      <th>6</th>\n",
       "      <td>1502</td>\n",
       "      <td>725</td>\n",
       "    </tr>\n",
       "    <tr>\n",
       "      <th>7</th>\n",
       "      <td>2042</td>\n",
       "      <td>973</td>\n",
       "    </tr>\n",
       "    <tr>\n",
       "      <th>8</th>\n",
       "      <td>2735</td>\n",
       "      <td>1267</td>\n",
       "    </tr>\n",
       "    <tr>\n",
       "      <th>9</th>\n",
       "      <td>3238</td>\n",
       "      <td>1463</td>\n",
       "    </tr>\n",
       "    <tr>\n",
       "      <th>10</th>\n",
       "      <td>4126</td>\n",
       "      <td>1878</td>\n",
       "    </tr>\n",
       "    <tr>\n",
       "      <th>11</th>\n",
       "      <td>4650</td>\n",
       "      <td>2174</td>\n",
       "    </tr>\n",
       "    <tr>\n",
       "      <th>12</th>\n",
       "      <td>5800</td>\n",
       "      <td>2778</td>\n",
       "    </tr>\n",
       "  </tbody>\n",
       "</table>\n",
       "</div>"
      ],
      "text/plain": [
       "plan   surf  ultimate\n",
       "month                \n",
       "1        10        29\n",
       "2       110       121\n",
       "3       312       221\n",
       "4       611       343\n",
       "5      1087       489\n",
       "6      1502       725\n",
       "7      2042       973\n",
       "8      2735      1267\n",
       "9      3238      1463\n",
       "10     4126      1878\n",
       "11     4650      2174\n",
       "12     5800      2778"
      ]
     },
     "execution_count": 57,
     "metadata": {},
     "output_type": "execute_result"
    }
   ],
   "source": [
    "# Preparar el dataframe para el boxplot\n",
    "df_internet_boxplot_groupby_plan = df_users_plan_per_month.groupby(['month','plan'])['gb_used'].sum().unstack()\n",
    "df_internet_boxplot_groupby_plan"
   ]
  },
  {
   "cell_type": "code",
   "execution_count": 58,
   "metadata": {},
   "outputs": [
    {
     "data": {
      "image/png": "[encoded data removed]",
      "text/plain": [
       "<Figure size 864x432 with 1 Axes>"
      ]
     },
     "metadata": {
      "needs_background": "light"
     },
     "output_type": "display_data"
    }
   ],
   "source": [
    "# Trazar un diagrama de caja para visualizar la distribución de la duración mensual del trafico de inernet\n",
    "\n",
    "df_internet_boxplot_groupby_plan.boxplot(figsize=(12,6))\n",
    "plt.title('Monthly gb distribution by plan')\n",
    "plt.xlabel('Plan')\n",
    "plt.ylabel('gb')\n",
    "plt.show()"
   ]
  },
  {
   "cell_type": "markdown",
   "metadata": {
    "id": "UN9zwuMP0q1N"
   },
   "source": [
    "**Notas**  \n",
    "El comportamiento varia de acuerdo al plan. \n",
    "- La media de surf esta en 14.59 gb y la de ultimate en 16.34 gb.\n",
    "- Los usuarios con la tarifa ultimate suelen usar menos mb en total por mes hasta febrero, a partir de marzo los usuarios surf cosumen mas gb (por ser mas usuarios de la tarifa surf que de la taria ultimate).\n",
    "- En promedio la tarifa surf consume ligeramente mas gb en los meses de: junio, julio. La tarifa ultimate\n",
    "    es superior en los otros meses. Para febrero, marzo y abril hay una diferencia significativa de aprox. el 20% mas que la tarifa surf.\n",
    "- La distribucion de ambas tarifas tienen un comportamiento sesgado hacia la derecha (el bigote superior del boxplot es mas largo que el inferior).\n",
    "- No se observan valores atipicos."
   ]
  },
  {
   "cell_type": "markdown",
   "metadata": {
    "id": "tCijq3260q1N"
   },
   "source": [
    "## Ingreso"
   ]
  },
  {
   "cell_type": "code",
   "execution_count": 59,
   "metadata": {
    "id": "tz-dq_V00q1O"
   },
   "outputs": [
    {
     "data": {
      "text/plain": [
       "count    1573.000000\n",
       "mean       60.706408\n",
       "std        55.388042\n",
       "min        20.000000\n",
       "25%        20.000000\n",
       "50%        40.360000\n",
       "75%        80.360000\n",
       "max       590.370000\n",
       "Name: total_price, dtype: float64"
      ]
     },
     "execution_count": 59,
     "metadata": {},
     "output_type": "execute_result"
    }
   ],
   "source": [
    "# Filtrar los ingresos por el plan surf \n",
    "surf_income = df_users_plan_per_month[df_users_plan_per_month['plan']=='surf']['total_price']\n",
    "# Describir estadisticas del plan surf\n",
    "surf_income.describe()"
   ]
  },
  {
   "cell_type": "code",
   "execution_count": 60,
   "metadata": {
    "id": "0Y1v8ZUz0q1P"
   },
   "outputs": [
    {
     "data": {
      "text/plain": [
       "count    720.000000\n",
       "mean      72.313889\n",
       "std       11.395108\n",
       "min       70.000000\n",
       "25%       70.000000\n",
       "50%       70.000000\n",
       "75%       70.000000\n",
       "max      182.000000\n",
       "Name: total_price, dtype: float64"
      ]
     },
     "execution_count": 60,
     "metadata": {},
     "output_type": "execute_result"
    }
   ],
   "source": [
    "# Filtrar los ingresos por el plan ultimate \n",
    "ultimate_income = df_users_plan_per_month[df_users_plan_per_month['plan']=='ultimate']['total_price']\n",
    "# Describir estadisticas del plan surf\n",
    "ultimate_income.describe()"
   ]
  },
  {
   "cell_type": "markdown",
   "metadata": {
    "id": "KAFidcXZ0q1P"
   },
   "source": [
    "**Notas**\n",
    "- La media de la tarifa surf es de 60.70 usd. La media de la tarifa ultimate es de 72.31 usd.\n",
    "    Esto quiere decir que los usuarios de la tarifa ultimate en promedio pagan solamente la tarifa mensual, mientras que\n",
    "    los usuarios de la tarifa surf, tienden a pagar mas por exceso del servicio, casi 3 veces la tarifa mensual. \n",
    "    Aun asi el precio en promedio de la tarifa surf es menor a la tarifa ultimate.\n",
    "    \n",
    "- La desviacion estandar de la tarifa surf es de 55.38 usd, mientras que la de la tarifa ultimate es de 11.39 usd.\n",
    "    Los valores estan menos dispersos en la tarifa surf. Los usuarios de la tarifa ultimate suelen ser mas consistentes en lo que gastan mensualmente. \n",
    "    \n",
    "- El 75% de los usuarios de la tarifa ultimate, gastan 70 usd (solamente la tarifa mensual).\n",
    "- El 25% de los usuarios de la tarifa surf, gastan 20 usd (solamente la tarifa mensual).\n",
    "- Hay un 25% de usuarios en la tarifa surf que gasta mas del equivalente la tarifa mensual de la tarifa ultimate (70 usd). \n",
    "- El maximo de la tarifa para surf es de 590.37 usd comparado con el maximo de la tarifa ultimate 182 usd.\n",
    "    Los usuarios de surf tienden a gastar mas. "
   ]
  },
  {
   "cell_type": "markdown",
   "metadata": {
    "id": "ajJ7VKeI0q1Q"
   },
   "source": [
    "## Prueba las hipótesis estadísticas"
   ]
  },
  {
   "cell_type": "code",
   "execution_count": 61,
   "metadata": {
    "id": "nFoPNlPq0q1R"
   },
   "outputs": [
    {
     "name": "stdout",
     "output_type": "stream",
     "text": [
      "Rechazamos la hipótesis nula. Hay diferencias significativas en los ingresos promedio\n"
     ]
    }
   ],
   "source": [
    "# Prueba las hipótesis\n",
    "\n",
    "# H0 (Hipótesis nula): Los ingresos promedio procedentes de los usuarios de los planes de llamada son iguales.\n",
    "# H1 (Hipótesis alternativa): Los ingresos promedio procedentes de los usuarios de los planes de llamada cambian.\n",
    "\n",
    "# Realizar la prueba de t de Student para dos muestras independientes\n",
    "test_result = st.ttest_ind(surf_income,ultimate_income)\n",
    "\n",
    "# Definir el nivel de significancia al 1%\n",
    "alpha = 0.01\n",
    "\n",
    "# Comparar la probabilidad (resultado de la prueba) con el nivel de significancia\n",
    "if alpha > test_result.pvalue:\n",
    "    print('Rechazamos la hipótesis nula. Hay diferencias significativas en los ingresos promedio')\n",
    "else:\n",
    "    print('No hay evidencia para rechazar la hipótesis nula.')"
   ]
  },
  {
   "cell_type": "markdown",
   "metadata": {},
   "source": [
    "**Nota**  \n",
    "Se rechaza la hipótesis nula. Hay diferencias significativas en los ingresos promedio. "
   ]
  },
  {
   "cell_type": "code",
   "execution_count": 62,
   "metadata": {
    "id": "Cqcj7wrZ0q1S"
   },
   "outputs": [
    {
     "name": "stdout",
     "output_type": "stream",
     "text": [
      "No hay evidencia para rechazar la hipótesis nula.\n"
     ]
    }
   ],
   "source": [
    "# Prueba las hipótesis\n",
    "\n",
    "# H0 (Hipótesis nula): El ingreso promedio de los usuarios del área de NY-NJ es diferentes al de los usuarios de otras regiones.\n",
    "# H1 (Hipótesis alterntiva): El ingreso promedio de los usuarios del área de NY-NJ es igual al de los usuarios de otras regiones.\n",
    "\n",
    "# área NY-NJ\n",
    "area = 'New York-Newark-Jersey City, NY-NJ-PA MSA'\n",
    "\n",
    "# Filtro de usuarios por área\n",
    "df_users_nynj = df_users.query(\"@area in city\")\n",
    "\n",
    "# Usar el id de los usuarios para encontrarlos en el dataframe con los ingresos\n",
    "df_users_plan_per_month_NYNJ = df_users_plan_per_month.query(\"user_id in @df_users_nynj['user_id']\")\n",
    "# filtrar para el caso contrario\n",
    "df_users_plan_per_month_others = df_users_plan_per_month.query(\"user_id not in @df_users_nynj['user_id']\")\n",
    "\n",
    "df_users_plan_per_month_NYNJ['total_price'].mean()\n",
    "\n",
    "# Realizar la prueba de t de Student para dos muestras independientes\n",
    "test_result = st.ttest_ind(df_users_plan_per_month_NYNJ['total_price'],df_users_plan_per_month_others['total_price'])\n",
    "# Definir el nivel de significancia\n",
    "alpha = 0.01\n",
    "\n",
    "if alpha > test_result.pvalue:\n",
    "    print('Rechazamos la hipótesis nula. Hay diferencias significativas en los ingresos promedio')\n",
    "else:\n",
    "    print('No hay evidencia para rechazar la hipótesis nula.')"
   ]
  },
  {
   "cell_type": "code",
   "execution_count": 63,
   "metadata": {},
   "outputs": [
    {
     "name": "stdout",
     "output_type": "stream",
     "text": [
      "No hay evidencia para rechazar la hipótesis nula.\n"
     ]
    }
   ],
   "source": [
    "# Prueba de dos colas\n",
    "resultado_prueba = st.ttest_ind(df_users_plan_per_month_NYNJ['total_price'], df_users_plan_per_month_others['total_price'])\n",
    "\n",
    "# Definir el nivel de significancia\n",
    "alpha = 0.01\n",
    "\n",
    "if alpha > resultado_prueba.pvalue:\n",
    "    print('Rechazamos la hipótesis nula. Hay diferencias significativas en los ingresos promedio')\n",
    "else:\n",
    "    print('No hay evidencia para rechazar la hipótesis nula.')"
   ]
  },
  {
   "cell_type": "markdown",
   "metadata": {},
   "source": [
    "**Nota**  \n",
    "No hay evidencia para rechazar la hipótesis nula."
   ]
  },
  {
   "cell_type": "markdown",
   "metadata": {
    "id": "bbTR8UQO0q1T"
   },
   "source": [
    "## Recopilación de informes\n",
    "\n",
    "**Para la lectura de datos**  \n",
    "- Lectura de datos correctas, no se tuvieron que agregar argumentos adicionales.\n",
    "\n",
    "**Preprocesamiento de datos**  \n",
    "\n",
    "**1. Dataframe de las tarifas**\n",
    "- El dataframe no contiene valores ausentes. \n",
    "- Los nombres de las columnas contienen un correcto uso de minúsculas, snake case y son nombres descriptivos.\n",
    "- Con excepción de la columna plan_name, los tipos de datos son correctos. Se cambio el tipo de dato de la columna plan_name por tipo categórico en vez de un string con apoyo de la método astype(). \n",
    "- Hay 8 columnas y 2 filas. \n",
    "\n",
    "**2. Dataframe de los usuarios** \n",
    "- Las columnas tienen un nombre apropiado: minúsculas, snake_case  y el nombre es descriptivo. \n",
    "- La columna reg_date contiene valores de tipo str, al ser fechas se cambiaron por datatime para manipular los datos mas fácil. \n",
    "- `Churn_date` contiene 34 valores de 500, la razón fue que los usuarios seguian consumiendo el producto y no habia fecha de vencimiento. \n",
    "- `plan` es de tipo str lo cambie por category. Me apoye del método astype(). \n",
    "- `churn_date` es de tipo str cuando debería ser datetime. Me apoyare del método to_datetime(). Tambien es necesario eliminar los valores ausentes. Me apoyare del método fillna().\n",
    "- Hay 8 columnas y 500 filas. \n",
    "- Se agrego una columna que indicara el mes de registro, se ingoro el año al ser todos datos del 2018 y el día no era relevante para los calculos.\n",
    "- Curiosamente hay 10 usuarios que contrataron una tarifa pero no consumieron ningun servicio en ningun mes. \n",
    "\n",
    "**3. Dataframe de las llamadas**  \n",
    "- La columna id parece una composición del user_id + un identificador del mensaje, separados por un guión bajo. \n",
    "- Se puede cambiar el tipo de dato de la columna `message_date` de str a datetime. \n",
    "- No hay valores ausentes. \n",
    "- Los nombres de las columnas cumplen con estar en minúsculas, uso de snake case y son descriptivos. \n",
    "- Hay 3 columnas, y 76051 filas. \n",
    "- Se añadio una columna con el valor del mes en que se realizo la llamada para calculos posteriores, como la agrupación por mes. \n",
    "\n",
    "**4. Dataframe de los mensajes**\n",
    "- Columnas descriptivas con uso de minúsculas y snake_case.\n",
    "- La columna id es una composición del user_id y un identificador de sesión de internet, separados por un guión bajo. \n",
    "- No hay valores ausentes. \n",
    "- La columna session_date tiene el tipo de dato str, puede ser cambiada por datetime. Con el método to_datetime(). \n",
    "- Hay 4 columnas y 104825 filas.\n",
    "- Se añadio una columna con el valor del mes en que se realizo los mensajes para calculos posteriores, como agrupación por mes.\n",
    "\n",
    "**5. Dataframe del internet**\n",
    "- Columnas descriptivas con uso de minúsculas y snake_case.\n",
    "- La columna id es una composición del user_id y un identificador de sesión de internet, separados por un guión bajo. \n",
    "- No hay valores ausentes. \n",
    "- La columna session_date tiene el tipo de dato str, puede ser cambiada por datetime. Con el método to_datetime(). \n",
    "- Hay 4 columnas y 104825 filas.\n",
    "- Se añadio una columna con el valor del mes en que se realizo los mensajes para calculos posteriores, como agrupación por mes.\n",
    "\n",
    "**6. Condiciones de las tarifas**  \n",
    "\n",
    "- Las tarifas se cobran por mes. \n",
    "- Estas incluyen cierta cantidad de mensajes, mb para internet y minutos para llamadas.\n",
    "- Una vez excedidos estos valores hay una tarifa para el exceso de gb de internet, mensajes y llamadas. \n",
    "- Solo existen dos planes, surf y ultimate. Ultimate es el plan mas costoso (70 usd) y con mayores beneficios.\n",
    "\n",
    "**7. Comportamiento del usuario en las llamadas**    \n",
    "El comportamiento claramente varia de acuerdo al plan.   \n",
    "- Los usuarios con la tarifa ultimate suelen usar menos minutos en total hasta febrero, a partir de marzo los usuarios surf consumen mas minutos. Esto sucede porque el número de usuarios con la tarifa surf es aprox. 2 veces mayor al de la tarifa ultimate.\n",
    "- Si analizamos el promedio de minutos por mes y por plan.  \n",
    "    1. Surf es ligeramente mayor en los meses: enero, marzo, abril, junio, julio y diciembre\n",
    "    2. Ulimate es superior (25% mayor) que surf en febrero y ligeramente mayor en los demas meses.\n",
    "- La distribucion de ambas tarifas tienen un comportmiento sesgado hacia la derecha (el bigote superior del boxplot es mas largo que el inferior). \n",
    "- La media del plan surf en minutos de llamadas ronda los 56 000, mientras del plan ultimate ronda los 25000. \n",
    "- Parece que la tarifa surf tiene mas dispersión de valores, al tener los bigotes mas largos. \n",
    "- No se observan valores atipicos. \n",
    "- Conforme pasan los meses va aumentndo la demanda. Para diciembre la diferencia de demanda es casi del doble, siendo la tarifa surf la que mas consume (por la existencia de mas usuarios de la tarifa surf).\n",
    "\n",
    "**8. Comportamiento del usuario en los mensajes**  \n",
    "El comportamiento varia de acuerdo al plan. \n",
    "- Ambos cojuntos de datos para las dos tarifas, tienen datos sesgados hacia la derecha.\n",
    "- La media de ultimate esta en 2285 mensajes y la de surf en 4051 mensajes.\n",
    "- Los usuarios con la tarifa ultimate suelen usar menos minutos en total hasta marzo, a partir de abril los usuarios surf realizan mensajes (solo porque hay 2 veces mas usuarios de la tarifa surf que la de ultimate).\n",
    "- Al analizar el promedio de mensajes por tarifa se encontro que los usuarios con la tarifa surf, realizan mas mensajes en promedio al mes para todos los meses, desde un 15% a un 80% mas grande en comparación a al promedio de surf. \n",
    "- La distribución de ambas tarifas tienen un comporatmiento sesgado hacia la derecha (el bigote superior del boxplot es mas largo que el inferior).\n",
    "- Parece que la tarifa surf tiene mas dispersión de valores, al tener los bigotes mas largos.\n",
    "- No se observan valores atipicos.\n",
    "- Cada mes aumenta la demanda de mensajes. En diciembre la demanda de mensajes de la tarifa surf es casi el doble de la tarifa ultimate.\n",
    "\n",
    "**9. Comporatamiento del usuario en el consumo de internet**  \n",
    "El comportamiento varia de acuerdo al plan.\n",
    "- La media de surf esta en 14.59 gb y la de ultimate en 16.34 gb.\n",
    "- Los usuarios con la tarifa ultimate suelen usar menos mb en total por mes hasta febrero, a partir de marzo los usuarios surf cosumen mas gb (por ser mas usuarios de la tarifa surf que de la taria ultimate).\n",
    "- En promedio la tarifa surf consume ligeramente mas gb en los meses de: junio, julio. La tarifa ultimate\n",
    "    es superior en los otros meses. Para febrero, marzo y abril hay una diferencia significativa de aprox. el 20% mas que la tarifa surf.\n",
    "- La distribucion de ambas tarifas tienen un comportamiento sesgado hacia la derecha (el bigote superior del boxplot es mas largo que el inferior).\n",
    "- No se observan valores atipicos.\n",
    "\n",
    "**10. Ingreso**\n",
    "- La media de la tarifa surf es de 60.70 usd. La media de la tarifa ultimate es de 72.31 usd.\n",
    "    Esto quiere decir que los usuarios de la tarifa ultimate en promedio pagan solamente la tarifa mensual, mientras que\n",
    "    los usuarios de la tarifa surf, tienden a pagar mas por exceso del servicio, casi 3 veces la tarifa mensual. \n",
    "    Aun asi el precio en promedio de la tarifa surf es menor a la tarifa ultimate.\n",
    "    \n",
    "- La desviacion estandar de la tarifa surf es de 55.38 usd, mientras que la de la tarifa ultimate es de 11.39 usd.\n",
    "    Los valores estan menos dispersos en la tarifa surf. Los usuarios de la tarifa ultimate suelen ser mas consistentes en lo que gastan mensualmente. \n",
    "    \n",
    "- El 75% de los usuarios de la tarifa ultimate, gastan 70 usd (solamente la tarifa mensual).\n",
    "- El 25% de los usuarios de la tarifa surf, gastan 20 usd (solamente la tarifa mensual).\n",
    "- Hay un 25% de usuarios en la tarifa surf que gasta mas del equivalente la tarifa mensual de la tarifa ultimate (70 usd). \n",
    "- El maximo de la tarifa para surf es de 590.37 usd comparado con el maximo de la tarifa ultimate 182 usd.\n",
    "    Los usuarios de surf tienden a gastar mas. \n",
    "\n",
    "**11. Prueba de hipótesis**  \n",
    "1. Se analizo el siguiente caso:  \n",
    "**H0 (Hipótesis nula):** Los ingresos promedio procedentes de los usuarios de los planes de llamada son iguales.  \n",
    "**H1 (Hipótesis alternativa):** Los ingresos promedio procedentes de los usuarios de los planes de llamada cambian.  \n",
    "*Se utilizo una prueba t student para comprar si hay diferencias en la media significativas.* \n",
    "*El resultado es que hay una diferencia significativa por lo que la hipótesis nula se rechaza. Los ingresos promedio procedentes de los usuarios para cada tarifa son diferentes.* \n",
    "\n",
    "2. Se analizo el siguiente caso:  \n",
    "**H0 (Hipótesis nula):** El ingreso promedio de los usuarios del área de NY-NJ es diferente al de los usuarios de otras regiones.  \n",
    "**H1 (Hipótesis alternativa):** El ingreso promedio de los usuarios del área de NY-NJ es igual al de los usuarios de otras regiones.  \n",
    "*Se utilizo una prueba t student para comparar si hay diferencias en la media significativas. No hay evidencia suficiente para rechazar la hipótesis nula. Probablemente hay diferencias del ingreso promedio entre la región NY-NJ y el resto de regiones.*  \n",
    "*Se utilizo una prueba de dos colas para ver si habia cambios en cualquier dirección y el resultado fue el mismo.* "
   ]
  }
 ],
 "metadata": {
  "ExecuteTimeLog": [
   {
    "duration": 828,
    "start_time": "2021-11-16T09:21:11.304Z"
   },
   {
    "duration": 893,
    "start_time": "2021-11-16T09:21:17.728Z"
   },
   {
    "duration": 1150,
    "start_time": "2021-11-16T09:21:29.568Z"
   },
   {
    "duration": 3,
    "start_time": "2021-11-16T09:24:14.495Z"
   },
   {
    "duration": 120,
    "start_time": "2021-11-16T09:24:46.630Z"
   },
   {
    "duration": 3,
    "start_time": "2021-11-16T09:28:27.882Z"
   },
   {
    "duration": 4,
    "start_time": "2021-11-16T09:29:54.281Z"
   },
   {
    "duration": 3,
    "start_time": "2021-11-16T09:30:45.936Z"
   },
   {
    "duration": 4,
    "start_time": "2021-11-16T09:31:06.300Z"
   },
   {
    "duration": 113,
    "start_time": "2021-11-16T09:31:37.208Z"
   },
   {
    "duration": 143,
    "start_time": "2021-11-16T09:31:48.656Z"
   },
   {
    "duration": 98,
    "start_time": "2021-11-16T09:31:55.678Z"
   },
   {
    "duration": 3,
    "start_time": "2021-11-16T09:32:08.535Z"
   },
   {
    "duration": 111,
    "start_time": "2021-11-16T09:32:10.120Z"
   },
   {
    "duration": 3,
    "start_time": "2021-11-16T09:32:15.732Z"
   },
   {
    "duration": 4,
    "start_time": "2021-11-16T09:32:29.423Z"
   },
   {
    "duration": 3,
    "start_time": "2021-11-16T10:03:03.074Z"
   },
   {
    "duration": 3,
    "start_time": "2021-11-16T10:10:01.288Z"
   },
   {
    "duration": 3,
    "start_time": "2021-11-16T10:10:46.923Z"
   },
   {
    "duration": 121,
    "start_time": "2021-11-16T10:37:46.494Z"
   },
   {
    "duration": 125,
    "start_time": "2021-11-16T10:38:20.632Z"
   },
   {
    "duration": 112,
    "start_time": "2021-11-16T10:46:53.001Z"
   },
   {
    "duration": 110,
    "start_time": "2021-11-16T10:48:25.775Z"
   },
   {
    "duration": 3,
    "start_time": "2021-11-16T10:50:18.720Z"
   },
   {
    "duration": 4,
    "start_time": "2021-11-16T10:50:37.649Z"
   },
   {
    "duration": 2,
    "start_time": "2021-11-16T10:50:51.884Z"
   },
   {
    "duration": 3,
    "start_time": "2021-11-16T10:51:56.237Z"
   },
   {
    "duration": 101,
    "start_time": "2021-11-16T10:53:13.791Z"
   },
   {
    "duration": 3,
    "start_time": "2021-11-16T10:55:59.186Z"
   },
   {
    "duration": 3,
    "start_time": "2021-11-16T10:56:10.751Z"
   },
   {
    "duration": 3,
    "start_time": "2021-11-16T10:56:49.038Z"
   },
   {
    "duration": 3,
    "start_time": "2021-11-16T10:56:49.174Z"
   },
   {
    "duration": 4,
    "start_time": "2021-11-16T10:56:49.414Z"
   },
   {
    "duration": 3,
    "start_time": "2021-11-16T10:56:49.680Z"
   },
   {
    "duration": 3,
    "start_time": "2021-11-16T10:56:50.370Z"
   },
   {
    "duration": 114,
    "start_time": "2021-11-16T10:59:34.518Z"
   },
   {
    "duration": 3,
    "start_time": "2021-11-16T11:01:41.201Z"
   },
   {
    "duration": 116,
    "start_time": "2021-11-16T11:01:48.754Z"
   },
   {
    "duration": 3,
    "start_time": "2021-11-16T11:02:16.685Z"
   },
   {
    "duration": 3,
    "start_time": "2021-11-16T11:02:19.479Z"
   },
   {
    "duration": 3,
    "start_time": "2021-11-16T11:02:47.067Z"
   },
   {
    "duration": 3,
    "start_time": "2021-11-16T11:02:49.353Z"
   },
   {
    "duration": 3,
    "start_time": "2021-11-16T11:03:07.835Z"
   },
   {
    "duration": 3,
    "start_time": "2021-11-16T11:03:07.953Z"
   },
   {
    "duration": 112,
    "start_time": "2021-11-16T11:07:52.072Z"
   },
   {
    "duration": 187,
    "start_time": "2021-11-16T11:09:23.468Z"
   },
   {
    "duration": 4,
    "start_time": "2021-11-16T11:10:01.455Z"
   },
   {
    "duration": 3,
    "start_time": "2021-11-16T11:10:05.069Z"
   },
   {
    "duration": 4,
    "start_time": "2021-11-16T11:10:13.376Z"
   },
   {
    "duration": 3,
    "start_time": "2021-11-16T11:10:14.434Z"
   },
   {
    "duration": 3,
    "start_time": "2021-11-16T11:10:22.853Z"
   },
   {
    "duration": 4,
    "start_time": "2021-11-16T11:27:29.279Z"
   },
   {
    "duration": 4,
    "start_time": "2021-11-16T11:29:08.919Z"
   },
   {
    "duration": 118,
    "start_time": "2021-11-16T11:29:46.703Z"
   },
   {
    "duration": 437,
    "start_time": "2021-11-16T11:36:02.181Z"
   },
   {
    "duration": 157,
    "start_time": "2021-11-16T11:36:14.388Z"
   },
   {
    "duration": 207,
    "start_time": "2021-11-16T11:47:15.898Z"
   },
   {
    "duration": 3,
    "start_time": "2021-11-16T11:53:52.092Z"
   },
   {
    "duration": 3,
    "start_time": "2021-11-16T11:53:52.236Z"
   },
   {
    "duration": 3,
    "start_time": "2021-11-16T11:59:12.005Z"
   },
   {
    "duration": 112,
    "start_time": "2021-11-16T12:00:33.446Z"
   },
   {
    "duration": 3,
    "start_time": "2021-11-16T12:02:14.453Z"
   },
   {
    "duration": 3,
    "start_time": "2021-11-16T12:02:39.512Z"
   },
   {
    "duration": 106,
    "start_time": "2021-11-16T12:03:03.460Z"
   },
   {
    "duration": 3,
    "start_time": "2021-11-17T20:37:21.139Z"
   },
   {
    "duration": 3,
    "start_time": "2021-11-17T20:37:22.229Z"
   },
   {
    "duration": 3,
    "start_time": "2021-11-17T20:38:38.806Z"
   },
   {
    "duration": 3,
    "start_time": "2021-11-17T20:38:41.958Z"
   },
   {
    "duration": 3,
    "start_time": "2021-11-17T20:43:46.551Z"
   },
   {
    "duration": 4,
    "start_time": "2021-11-17T20:58:21.835Z"
   },
   {
    "duration": 3,
    "start_time": "2021-11-17T20:59:21.872Z"
   },
   {
    "duration": 4,
    "start_time": "2021-11-17T20:59:45.352Z"
   },
   {
    "duration": 4,
    "start_time": "2021-11-17T20:59:49.646Z"
   },
   {
    "duration": 159,
    "start_time": "2021-11-17T21:02:26.949Z"
   },
   {
    "duration": 3,
    "start_time": "2021-11-17T21:03:53.461Z"
   },
   {
    "duration": 3,
    "start_time": "2021-11-17T21:03:53.694Z"
   },
   {
    "duration": 3,
    "start_time": "2021-11-17T21:05:28.145Z"
   },
   {
    "duration": 116,
    "start_time": "2021-11-17T21:05:57.787Z"
   },
   {
    "duration": 3,
    "start_time": "2021-11-17T21:06:37.993Z"
   },
   {
    "duration": 3,
    "start_time": "2021-11-17T21:06:38.261Z"
   },
   {
    "duration": 3,
    "start_time": "2021-11-17T21:11:54.358Z"
   },
   {
    "duration": 3,
    "start_time": "2021-11-17T21:12:43.846Z"
   },
   {
    "duration": 4,
    "start_time": "2021-11-17T21:13:08.773Z"
   },
   {
    "duration": 3,
    "start_time": "2021-11-17T21:14:44.441Z"
   },
   {
    "duration": 3,
    "start_time": "2021-11-17T21:15:42.059Z"
   },
   {
    "duration": 4,
    "start_time": "2021-11-17T21:15:51.995Z"
   },
   {
    "duration": 3,
    "start_time": "2021-11-17T21:15:53.923Z"
   },
   {
    "duration": 3,
    "start_time": "2021-11-17T21:15:55.282Z"
   },
   {
    "duration": 3,
    "start_time": "2021-11-17T21:16:28.492Z"
   },
   {
    "duration": 3,
    "start_time": "2021-11-17T21:16:32.603Z"
   },
   {
    "duration": 3,
    "start_time": "2021-11-17T21:17:06.941Z"
   },
   {
    "duration": 98,
    "start_time": "2021-11-17T21:18:05.733Z"
   },
   {
    "duration": 4,
    "start_time": "2021-11-17T21:21:35.255Z"
   },
   {
    "duration": 3,
    "start_time": "2021-11-17T21:21:37.804Z"
   },
   {
    "duration": 4,
    "start_time": "2021-11-17T21:23:06.071Z"
   },
   {
    "duration": 3,
    "start_time": "2021-11-17T21:23:24.799Z"
   },
   {
    "duration": 3,
    "start_time": "2021-11-17T21:23:32.591Z"
   },
   {
    "duration": 98,
    "start_time": "2021-11-17T21:28:31.559Z"
   },
   {
    "duration": 3,
    "start_time": "2021-11-17T21:28:45.448Z"
   },
   {
    "duration": 3,
    "start_time": "2021-11-17T21:29:17.303Z"
   },
   {
    "duration": 3,
    "start_time": "2021-11-17T21:29:29.617Z"
   },
   {
    "duration": 3,
    "start_time": "2021-11-17T21:29:32.681Z"
   },
   {
    "duration": 3,
    "start_time": "2021-11-17T21:36:11.474Z"
   },
   {
    "duration": 3,
    "start_time": "2021-11-17T21:36:14.791Z"
   },
   {
    "duration": 3,
    "start_time": "2021-11-17T21:36:53.943Z"
   },
   {
    "duration": 3,
    "start_time": "2021-11-17T21:36:56.165Z"
   },
   {
    "duration": 4,
    "start_time": "2021-11-17T21:37:16.590Z"
   },
   {
    "duration": 3,
    "start_time": "2021-11-17T21:37:22.702Z"
   },
   {
    "duration": 4,
    "start_time": "2021-11-17T21:38:03.479Z"
   },
   {
    "duration": 3,
    "start_time": "2021-11-17T21:38:08.601Z"
   },
   {
    "duration": 3,
    "start_time": "2021-11-17T21:38:12.928Z"
   },
   {
    "duration": 3,
    "start_time": "2021-11-17T21:38:48.896Z"
   },
   {
    "duration": 2,
    "start_time": "2021-11-17T21:38:49.171Z"
   },
   {
    "duration": 4,
    "start_time": "2021-11-17T21:39:57.889Z"
   },
   {
    "duration": 3,
    "start_time": "2021-11-17T21:39:58.057Z"
   },
   {
    "duration": 3,
    "start_time": "2021-11-17T21:41:20.108Z"
   },
   {
    "duration": 3,
    "start_time": "2021-11-17T21:41:20.629Z"
   },
   {
    "duration": 3,
    "start_time": "2021-11-17T21:42:49.136Z"
   },
   {
    "duration": 3,
    "start_time": "2021-11-17T21:43:15.137Z"
   },
   {
    "duration": 4,
    "start_time": "2021-11-17T21:43:16.766Z"
   },
   {
    "duration": 4,
    "start_time": "2021-11-17T21:43:31.711Z"
   },
   {
    "duration": 3,
    "start_time": "2021-11-17T21:43:36.312Z"
   },
   {
    "duration": 4,
    "start_time": "2021-11-17T21:45:08.825Z"
   },
   {
    "duration": 4,
    "start_time": "2021-11-17T21:45:10.119Z"
   },
   {
    "duration": 4,
    "start_time": "2021-11-17T21:45:13.748Z"
   },
   {
    "duration": 3,
    "start_time": "2021-11-17T21:45:22.219Z"
   },
   {
    "duration": 3,
    "start_time": "2021-11-17T21:45:33.412Z"
   },
   {
    "duration": 2,
    "start_time": "2021-11-17T21:46:01.885Z"
   },
   {
    "duration": 3,
    "start_time": "2021-11-17T21:46:03.628Z"
   },
   {
    "duration": 107,
    "start_time": "2021-11-17T21:47:32.512Z"
   },
   {
    "duration": 103,
    "start_time": "2021-11-17T21:50:36.243Z"
   },
   {
    "duration": 3,
    "start_time": "2021-11-18T06:28:31.440Z"
   },
   {
    "duration": 3,
    "start_time": "2021-11-18T06:29:00.168Z"
   },
   {
    "duration": 3,
    "start_time": "2021-11-18T06:31:27.008Z"
   },
   {
    "duration": 2,
    "start_time": "2021-11-18T06:35:34.288Z"
   },
   {
    "duration": 2,
    "start_time": "2021-11-18T06:38:04.527Z"
   }
  ],
  "colab": {
   "provenance": []
  },
  "kernelspec": {
   "display_name": "Python 3 (ipykernel)",
   "language": "python",
   "name": "python3"
  },
  "language_info": {
   "codemirror_mode": {
    "name": "ipython",
    "version": 3
   },
   "file_extension": ".py",
   "mimetype": "text/x-python",
   "name": "python",
   "nbconvert_exporter": "python",
   "pygments_lexer": "ipython3",
   "version": "3.11.7"
  },
  "toc": {
   "base_numbering": 1,
   "nav_menu": {},
   "number_sections": true,
   "sideBar": true,
   "skip_h1_title": false,
   "title_cell": "Table of Contents",
   "title_sidebar": "Contents",
   "toc_cell": false,
   "toc_position": {
    "height": "calc(100% - 180px)",
    "left": "10px",
    "top": "150px",
    "width": "368px"
   },
   "toc_section_display": true,
   "toc_window_display": true
  }
 },
 "nbformat": 4,
 "nbformat_minor": 1
}
